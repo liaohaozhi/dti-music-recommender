{
  "cells": [
    {
      "cell_type": "code",
      "execution_count": null,
      "metadata": {
        "colab": {
          "base_uri": "https://localhost:8080/",
          "height": 374
        },
        "id": "I-pchgRSCr5N",
        "outputId": "d986dfa8-ece5-440b-eb6b-5a2c3390b79e"
      },
      "outputs": [],
      "source": [
        "import pandas as pd\n",
        "import re\n",
        "import nltk\n",
        "from nltk.corpus import stopwords\n",
        "\n",
        "filename_tracks = 'E:/Downloads/archive-features/tracks.csv'\n",
        "filename_lyr = \"E:/Downloads/archive-lyrics/lyrics-data.csv\"\n",
        "filename_gen = \"E:/Downloads/archive-lyrics/artists-data.csv\""
      ]
    },
    {
      "cell_type": "code",
      "execution_count": null,
      "metadata": {},
      "outputs": [],
      "source": [
        "# Function to clean and format artist names consistently\n",
        "def clean_artist_name(artist_name):\n",
        "    try:\n",
        "        artist_name = re.sub(r'[^\\w\\s]', '', artist_name)  # Remove non-alphanumeric characters\n",
        "        artist_name = re.sub(r'\\s+', ' ', artist_name)  # Replace multiple spaces with a single space\n",
        "        artist_name = artist_name.strip() # Remove surrounding whitespace\n",
        "        artist_name = artist_name.lower()\n",
        "    except Exception as e:\n",
        "        print(f\"Error cleaning artist name: {artist_name}\")\n",
        "        raise e\n",
        "    return artist_name\n",
        "\n",
        "# Cleanup genre column\n",
        "def split_genres(genre_string):\n",
        "    if isinstance(genre_string, str):\n",
        "        delimiters = [',', ';', '/']  # Hardcoded delimiters\n",
        "        for delimiter in delimiters:\n",
        "            genre_string = genre_string.replace(delimiter, '; ')\n",
        "        genres = genre_string.split('; ')\n",
        "        return genres\n",
        "    else:\n",
        "        return []\n",
        "\n",
        "# Pre-process lyrics\n",
        "def preprocess_text(text, stop_filter=True, flg_stemm=False, flg_lemm=True):\n",
        "    ## clean (convert to lowercase and remove punctuations and characters and then strip)\n",
        "    text = re.sub(r'[^\\w\\s]', '', str(text).lower().strip())\n",
        "            \n",
        "    ## Tokenize (convert from string to list)\n",
        "    words = text.split()\n",
        "\n",
        "    ## remove Stopwords\n",
        "    if stop_filter:\n",
        "        stop_word_set = set(stopwords.words(\"english\"))\n",
        "        words = [word for word in words if word not in stop_word_set]\n",
        "                \n",
        "    ## Stemming (remove -ing, -ly, ...)\n",
        "    if flg_stemm == True:\n",
        "        ps = nltk.stem.porter.PorterStemmer()\n",
        "        words = [ps.stem(word) for word in words]\n",
        "                \n",
        "    ## Lemmatisation (convert the word into root word)\n",
        "    if flg_lemm == True:\n",
        "        lem = nltk.stem.wordnet.WordNetLemmatizer()\n",
        "        words = [lem.lemmatize(word) for word in words]\n",
        "            \n",
        "    ## back to string from list\n",
        "    text = \" \".join(words)\n",
        "    return text"
      ]
    },
    {
      "cell_type": "code",
      "execution_count": null,
      "metadata": {},
      "outputs": [],
      "source": [
        "# Get song dataset with musical features\n",
        "df = pd.read_csv(filename_tracks)\n",
        "\n",
        "df.head()"
      ]
    },
    {
      "cell_type": "code",
      "execution_count": null,
      "metadata": {
        "colab": {
          "base_uri": "https://localhost:8080/",
          "height": 337
        },
        "id": "oH41gQHUKiNk",
        "outputId": "cf314713-8ffc-48c6-d371-6926f8a03d37"
      },
      "outputs": [],
      "source": [
        "# Get lyrics dataset, skip problematic row\n",
        "df_lyr = pd.read_csv(filename_lyr, skiprows=range(177701, 177702))\n",
        "\n",
        "df_lyr.head()"
      ]
    },
    {
      "cell_type": "code",
      "execution_count": null,
      "metadata": {
        "colab": {
          "base_uri": "https://localhost:8080/"
        },
        "id": "pCSObu1nNY_x",
        "outputId": "abac5669-244c-4a0c-f56e-9e5f6272c3ac"
      },
      "outputs": [],
      "source": [
        "# Clean and format the 'ALink' column in df_lyr (already in consistent format so no need to run through clean_artist_name)\n",
        "df_lyr['ALink'] = df_lyr['ALink'].str.strip('/')\n",
        "df_lyr['ALink'] = df_lyr['ALink'].str.replace('-', ' ')\n",
        "df_lyr['ALink'] = df_lyr['ALink'].str.lower()\n",
        "\n",
        "# Apply the clean_artist_name function to 'artists' column in df\n",
        "df['artists'] = df['artists'].apply(clean_artist_name)\n",
        "\n",
        "# Merge the dataframes based on the matching values in 'SName', 'name', 'ALink', and 'artists' columns\n",
        "df_comb = pd.merge(df, df_lyr, left_on=['name', 'artists'], right_on=['SName', 'ALink'], how='inner')\n",
        "\n",
        "# Drop the unnecessary columns ('SName' and 'ALink')\n",
        "df_comb.drop(['SName', 'ALink'], axis=1, inplace=True)\n",
        "\n",
        "df_comb.head()"
      ]
    },
    {
      "cell_type": "code",
      "execution_count": null,
      "metadata": {},
      "outputs": [],
      "source": [
        "# Get genre dataset\n",
        "df_gen = pd.read_csv(filename_gen)\n",
        "\n",
        "df_gen.head()"
      ]
    },
    {
      "cell_type": "code",
      "execution_count": null,
      "metadata": {},
      "outputs": [],
      "source": [
        "# Remove problematic NaN rows\n",
        "df_gen.dropna(subset=['Artist'], inplace=True)\n",
        "\n",
        "# Remove unnecessary columns \n",
        "df_gen.drop(['Popularity', 'Link', 'Songs'], axis=1, inplace=True)\n",
        "\n",
        "# Apply the clean_artist_name function to 'Artist' column in df for comparison\n",
        "df_gen['Artist'] = df_gen['Artist'].apply(clean_artist_name)"
      ]
    },
    {
      "cell_type": "code",
      "execution_count": null,
      "metadata": {},
      "outputs": [],
      "source": [
        "# Search and append genres from df_gen to df_comb based on artist \n",
        "for index, row in df_comb.iterrows():\n",
        "    artist = row['artists']\n",
        "    genres = df_gen.loc[df_gen['Artist'] == artist, 'Genres'].values\n",
        "    if len(genres) > 0:\n",
        "        df_comb.at[index, 'Genres'] = genres[0]\n",
        "\n",
        "# Confirm all desired columns are present\n",
        "print(df_comb.columns)\n",
        "\n",
        "# Size check\n",
        "print(len(df_comb))"
      ]
    },
    {
      "cell_type": "code",
      "execution_count": null,
      "metadata": {},
      "outputs": [],
      "source": [
        "# Remove problematic NaN rows\n",
        "df_comb.dropna(subset=['Genres'], inplace=True)\n",
        "\n",
        "# Size check\n",
        "print(len(df_comb))"
      ]
    },
    {
      "cell_type": "code",
      "execution_count": null,
      "metadata": {},
      "outputs": [],
      "source": [
        "# Clean-up and split genres into list of strings\n",
        "df_comb['Genres'] = df_comb['Genres'].apply(split_genres)\n",
        "\n",
        "# Clean-up genre substrings\n",
        "df_comb['Genres'] = df_comb['Genres'].apply(lambda x: [genre.strip() for genre in x])"
      ]
    },
    {
      "cell_type": "code",
      "execution_count": null,
      "metadata": {},
      "outputs": [],
      "source": [
        "# Remove duplicates that match song name and artist name keeping the one with highest popularity\n",
        "df_comb.sort_values('popularity', ascending=False, inplace=True)\n",
        "df_comb.drop_duplicates(subset=['name', 'artists'], keep='first', inplace=True)\n",
        "\n",
        "# Size check\n",
        "print(len(df_comb))"
      ]
    },
    {
      "cell_type": "code",
      "execution_count": null,
      "metadata": {},
      "outputs": [],
      "source": [
        "# Add column of data processing on lyrics\n",
        "df_comb['clean lyric'] = df_comb['Lyric'].apply(lambda x: preprocess_text(x))"
      ]
    },
    {
      "cell_type": "markdown",
      "metadata": {},
      "source": [
        "Quick sanity check on datset"
      ]
    },
    {
      "cell_type": "code",
      "execution_count": null,
      "metadata": {},
      "outputs": [],
      "source": [
        "# See all possible genres\n",
        "genre_list = df_comb['Genres'].explode().unique().tolist()\n",
        "print(genre_list)"
      ]
    },
    {
      "cell_type": "code",
      "execution_count": null,
      "metadata": {},
      "outputs": [],
      "source": [
        "# Filter rows based on the 'artists' column matching the specified string\n",
        "filtered_df = df_comb[df_comb['artists'] == 'louis armstrong']\n",
        "\n",
        "# Print the filtered dataframe (confirms no more duplicates, genres correct, cleaned lyrics correct)\n",
        "filtered_df"
      ]
    },
    {
      "cell_type": "markdown",
      "metadata": {},
      "source": [
        "Save finalized dataframe as csv"
      ]
    },
    {
      "cell_type": "code",
      "execution_count": null,
      "metadata": {},
      "outputs": [],
      "source": [
        "# Save df_comb to a CSV file\n",
        "df_comb.to_csv('df_comb_v3.csv', index=False)"
      ]
    }
  ],
  "metadata": {
    "colab": {
      "provenance": []
    },
    "kernelspec": {
      "display_name": "Python 3",
      "name": "python3"
    },
    "language_info": {
      "codemirror_mode": {
        "name": "ipython",
        "version": 3
      },
      "file_extension": ".py",
      "mimetype": "text/x-python",
      "name": "python",
      "nbconvert_exporter": "python",
      "pygments_lexer": "ipython3",
      "version": "3.8.2"
    }
  },
  "nbformat": 4,
  "nbformat_minor": 0
}
