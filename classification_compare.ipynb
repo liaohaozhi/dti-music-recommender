{
  "cells": [
    {
      "cell_type": "code",
      "execution_count": null,
      "metadata": {
        "colab": {
          "base_uri": "https://localhost:8080/"
        },
        "id": "ij45_Za46PQq",
        "outputId": "34fdcc3d-c7c9-4e20-f6b9-f99b5f4e6262"
      },
      "outputs": [],
      "source": [
        "import pandas as pd\n",
        "import nltk\n",
        "nltk.usage(nltk.classify.ClassifierI)\n",
        "import nltk\n",
        "import pandas as pd\n",
        "import re\n",
        "import random\n",
        "import matplotlib.pyplot as plt\n",
        "import numpy as np\n",
        "from nltk.corpus import stopwords\n",
        "#transform\n",
        "from sklearn.feature_extraction.text import CountVectorizer\n",
        "from sklearn.feature_extraction.text import TfidfTransformer\n",
        "#classifiers\n",
        "from nltk.classify import SklearnClassifier\n",
        "from sklearn.svm import SVC\n",
        "from sklearn.naive_bayes import BernoulliNB\n",
        "from sklearn.naive_bayes import MultinomialNB\n",
        "from sklearn.linear_model import SGDClassifier\n",
        "from sklearn.ensemble import RandomForestClassifier\n",
        "from sklearn.ensemble import GradientBoostingClassifier\n",
        "from sklearn.neighbors import KNeighborsClassifier\n",
        "from sklearn.model_selection import train_test_split\n",
        "from sklearn.metrics import accuracy_score\n",
        "from sklearn.metrics import confusion_matrix\n",
        "\n",
        "#utilities\n",
        "from sklearn.pipeline import Pipeline\n",
        "from sklearn import metrics\n",
        "from sklearn.model_selection import GridSearchCV\n",
        "\n",
        "#graphing\n",
        "import seaborn as sns"
      ]
    },
    {
      "cell_type": "code",
      "execution_count": null,
      "metadata": {
        "id": "ECZp64Yz6Y76"
      },
      "outputs": [],
      "source": [
        "def assign_mood(row):\n",
        "    if row['energy'] >= 0.8 and row['valence'] >= 0.04 and row['danceability'] >= 0.4:\n",
        "        return 'energetic'\n",
        "    elif row['energy'] < 0.2240 and row['valence'] < 0.393 and row['danceability'] < 0.507:\n",
        "        return 'sad'\n",
        "    elif row['energy'] >= 0.7 and row['valence'] >= 0.7 and row['danceability'] >= 0.6:\n",
        "        return 'happy'\n",
        "    elif row['energy'] <= 0.320 and row['valence'] >= 0.3 and row['danceability'] >= 0.572:\n",
        "        return 'romantic'\n",
        "    elif row['energy'] >= 0.000282 and row['valence'] >= 0.01 and row['danceability'] >= 0.0499:\n",
        "        return 'inspiring'\n",
        "    elif row['energy'] > 0.2 and row['valence'] >= 0.6 and row['danceability'] >= 0.5:\n",
        "        return 'hopeful'\n",
        "    elif row['energy'] > 0.324 and row['valence'] >= 0.03 and row['danceability'] >= 0.2:\n",
        "        return 'calm'\n",
        "    elif row['energy'] < 0.324 and row['valence'] <= 0.239 and row['danceability'] <= 0.658:\n",
        "        return 'reflective'\n",
        "    elif row['energy'] >= 0.858 and row['valence'] < 0.682 and row['danceability'] < 0.737:\n",
        "        return 'upbeat'\n",
        "\n",
        "    # Add more conditions for other mood types"
      ]
    },
    {
      "cell_type": "code",
      "execution_count": null,
      "metadata": {
        "id": "g-t0rpQh6d9W"
      },
      "outputs": [],
      "source": [
        "df_m = pd.read_csv('df_comb_with_mood.csv')"
      ]
    },
    {
      "cell_type": "code",
      "execution_count": null,
      "metadata": {
        "colab": {
          "base_uri": "https://localhost:8080/",
          "height": 330
        },
        "id": "B2kL28_D6pWD",
        "outputId": "0a01cb00-da3f-4a23-ac7d-54563d4c1658"
      },
      "outputs": [],
      "source": [
        "df_m.head(1)"
      ]
    },
    {
      "cell_type": "code",
      "execution_count": null,
      "metadata": {
        "colab": {
          "base_uri": "https://localhost:8080/"
        },
        "id": "hqo4OqA77OjH",
        "outputId": "42fbf32b-1b71-48b0-b4a2-12ed1782c233"
      },
      "outputs": [],
      "source": [
        "df_m.isnull().sum()"
      ]
    },
    {
      "cell_type": "code",
      "execution_count": null,
      "metadata": {
        "colab": {
          "base_uri": "https://localhost:8080/",
          "height": 465
        },
        "id": "Rf0eDh3H7VMd",
        "outputId": "8ff25a59-125a-49cd-f731-0fa7032aeb1a"
      },
      "outputs": [],
      "source": [
        "import pandas as pd\n",
        "import seaborn as sns\n",
        "\n",
        "# Convert the 'mood' column to categorical data type\n",
        "df_m['Mood'] = pd.Categorical(df_m['Mood'])\n",
        "\n",
        "# Plot the count of each mood category\n",
        "sns.countplot(data=df_m, x='Mood')\n",
        "\n",
        "# Display the plot\n",
        "plt.show()"
      ]
    },
    {
      "cell_type": "code",
      "execution_count": null,
      "metadata": {
        "id": "20iLnpQU8CtC"
      },
      "outputs": [],
      "source": [
        "import pandas as pd\n",
        "from sklearn.preprocessing import StandardScaler\n",
        "from sklearn.neural_network import MLPClassifier\n",
        "from sklearn.metrics import accuracy_score\n",
        "from sklearn.model_selection import cross_val_score, cross_val_predict\n",
        "from sklearn.model_selection import train_test_split\n",
        "from sklearn.model_selection import GridSearchCV\n",
        "import numpy as np"
      ]
    },
    {
      "cell_type": "code",
      "execution_count": null,
      "metadata": {
        "colab": {
          "base_uri": "https://localhost:8080/"
        },
        "id": "Ra7vmBW47n8F",
        "outputId": "262b3de6-8c4f-4e78-a913-a5160ad172f0"
      },
      "outputs": [],
      "source": [
        "features_for_mood = ['energy', 'danceability', 'valence']\n",
        "\n",
        "\n",
        "hyper_opt = False\n",
        "\n",
        "#split into trainval and test\n",
        "trainx, testx, trainy, testy = train_test_split(df_m[features_for_mood], df_m['Mood'], test_size = 0.33,\n",
        "                                                random_state = 42, stratify=df_m['Mood'])\n",
        "\n",
        "scaler = StandardScaler()\n",
        "train_scaled = scaler.fit_transform(trainx)\n",
        "\n",
        "nn = MLPClassifier(max_iter = 15000, alpha=1.0, hidden_layer_sizes=8)\n",
        "scores = cross_val_score(nn, train_scaled, trainy, cv=5)\n",
        "print (\"cv score: \" + str(scores.mean()))\n",
        "\n",
        "if hyper_opt:\n",
        "    params = {\"alpha\": np.logspace(-4, 2, 7), 'hidden_layer_sizes': [1, 2, 5, 10, 20, 50, 100]}\n",
        "    clf = GridSearchCV(nn, params)\n",
        "    clf.fit(train_scaled, trainy)\n",
        "    print(\"hyperparam optimized score : \" + str(clf.best_score_))\n",
        "    import pdb\n",
        "    pdb.set_trace()"
      ]
    },
    {
      "cell_type": "code",
      "execution_count": null,
      "metadata": {
        "id": "oJCzyVnA8N_O"
      },
      "outputs": [],
      "source": [
        "from sklearn.model_selection import cross_validate"
      ]
    },
    {
      "cell_type": "code",
      "execution_count": null,
      "metadata": {
        "id": "xciEWD098RfC"
      },
      "outputs": [],
      "source": [
        "results = cross_validate(nn, train_scaled, trainy, return_train_score=True)"
      ]
    },
    {
      "cell_type": "code",
      "execution_count": null,
      "metadata": {
        "colab": {
          "base_uri": "https://localhost:8080/"
        },
        "id": "9MIO1xpj8URG",
        "outputId": "4bac3ba9-1031-4e71-8779-8b9f7353561b"
      },
      "outputs": [],
      "source": [
        "results"
      ]
    },
    {
      "cell_type": "code",
      "execution_count": null,
      "metadata": {
        "id": "4lhMcy0-8XH9"
      },
      "outputs": [],
      "source": [
        "nn = MLPClassifier(hidden_layer_sizes=8, max_iter=15000, alpha=1.0)"
      ]
    },
    {
      "cell_type": "code",
      "execution_count": null,
      "metadata": {
        "colab": {
          "base_uri": "https://localhost:8080/"
        },
        "id": "Fgm5vd6S8Zxt",
        "outputId": "fa4cdbe2-4801-44c3-c69b-c41c6a591805"
      },
      "outputs": [],
      "source": [
        "nn.fit(train_scaled, trainy)\n",
        "test_preds = nn.predict(scaler.transform(testx))\n",
        "accuracy_score(test_preds, testy)"
      ]
    },
    {
      "cell_type": "code",
      "execution_count": null,
      "metadata": {
        "id": "I77hf2zp8ylg"
      },
      "outputs": [],
      "source": [
        "import seaborn as sn\n",
        "from sklearn.metrics import confusion_matrix"
      ]
    },
    {
      "cell_type": "code",
      "execution_count": null,
      "metadata": {
        "id": "PK5SdWeI8iVr"
      },
      "outputs": [],
      "source": [
        "conf_matrix = confusion_matrix(testy, test_preds, labels = df_m['Mood'].unique().tolist())"
      ]
    },
    {
      "cell_type": "code",
      "execution_count": null,
      "metadata": {
        "id": "NzcCRwd68ovc"
      },
      "outputs": [],
      "source": [
        "labels = df_m['Mood'].unique().tolist()"
      ]
    },
    {
      "cell_type": "code",
      "execution_count": null,
      "metadata": {
        "colab": {
          "base_uri": "https://localhost:8080/",
          "height": 487
        },
        "id": "KWTaCKShimSV",
        "outputId": "03848574-3f83-4e8f-fab0-c878a95dd279"
      },
      "outputs": [],
      "source": [
        "import matplotlib.pyplot as plt\n",
        "import seaborn as sn\n",
        "\n",
        "plt.rcParams['figure.figsize'] = (7, 5)\n",
        "# Define the labels\n",
        "\n",
        "# Create the subplot and plot the confusion matrix\n",
        "ax = plt.subplot()\n",
        "sn.heatmap(conf_matrix, annot=True, fmt='d', cmap='Blues')\n",
        "\n",
        "# Set the labels and title\n",
        "ax.set_xlabel('Predicted labels')\n",
        "ax.set_ylabel('True labels')\n",
        "ax.set_title('Confusion Matrix')\n",
        "\n",
        "# Set the tick labels\n",
        "ax.xaxis.set_ticklabels(labels)\n",
        "ax.yaxis.set_ticklabels(labels)\n",
        "\n",
        "# Display the plot\n",
        "plt.show()"
      ]
    },
    {
      "cell_type": "code",
      "execution_count": null,
      "metadata": {
        "id": "bwCFlR7Z9641"
      },
      "outputs": [],
      "source": [
        "import matplotlib.pyplot as plt\n",
        "%matplotlib inline\n",
        "plt.rcParams['figure.figsize'] = (5,5)"
      ]
    },
    {
      "cell_type": "code",
      "execution_count": null,
      "metadata": {
        "id": "CrjxqA3A9-cd"
      },
      "outputs": [],
      "source": [
        "from sklearn.model_selection import learning_curve\n",
        "train_sizes, train_scores, val_scores = learning_curve(nn, train_scaled, trainy, cv=5)"
      ]
    },
    {
      "cell_type": "code",
      "execution_count": null,
      "metadata": {
        "colab": {
          "base_uri": "https://localhost:8080/",
          "height": 483
        },
        "id": "SAmz42NR-BUM",
        "outputId": "1a77c89f-ba58-4190-8533-f0bacfe38db1"
      },
      "outputs": [],
      "source": [
        "train_scores_mean = np.mean(train_scores, axis=1)\n",
        "val_scores_mean = np.mean(val_scores, axis=1)\n",
        "plt.plot(train_sizes, train_scores_mean, label='training score')\n",
        "plt.plot(train_sizes, val_scores_mean, label='validation score')\n",
        "plt.xlabel('training size')\n",
        "plt.legend()"
      ]
    },
    {
      "cell_type": "markdown",
      "metadata": {
        "id": "9ybwT-gVK6fR"
      },
      "source": [
        "\n",
        "\n",
        "---\n",
        "\n",
        "#RandomForest Classiefier"
      ]
    },
    {
      "cell_type": "code",
      "execution_count": null,
      "metadata": {
        "colab": {
          "base_uri": "https://localhost:8080/"
        },
        "id": "CHYH7JThLm3i",
        "outputId": "2de3ffcd-b39f-4368-a9fd-c0e525a5adc6"
      },
      "outputs": [],
      "source": [
        "#Importing Libraries Execute the following script to import the required libraries\n",
        "import numpy as np\n",
        "import re\n",
        "import nltk\n",
        "from sklearn.datasets import load_files\n",
        "nltk.download('stopwords')\n",
        "import pickle\n",
        "from nltk.corpus import stopwords"
      ]
    },
    {
      "cell_type": "code",
      "execution_count": null,
      "metadata": {
        "id": "N7Tl6u6vKz65"
      },
      "outputs": [],
      "source": [
        "#Importing the Dataset\n",
        "music_data =pd.read_csv('df_comb_with_mood.csv')\n",
        "X, y = music_data['clean lyric'], music_data['Mood']"
      ]
    },
    {
      "cell_type": "code",
      "execution_count": null,
      "metadata": {
        "id": "ZkgZIYKfLg-d"
      },
      "outputs": [],
      "source": [
        "from sklearn.feature_extraction.text import CountVectorizer\n",
        "vectorizer = CountVectorizer(max_features=1500, min_df=5, max_df=0.7, stop_words=stopwords.words('english'))\n",
        "X = vectorizer.fit_transform(music_data['clean lyric']).toarray()"
      ]
    },
    {
      "cell_type": "code",
      "execution_count": null,
      "metadata": {
        "id": "arhw84kpLqBR"
      },
      "outputs": [],
      "source": [
        "from sklearn.feature_extraction.text import TfidfTransformer\n",
        "tfidfconverter = TfidfTransformer()\n",
        "X = tfidfconverter.fit_transform(X).toarray()"
      ]
    },
    {
      "cell_type": "code",
      "execution_count": null,
      "metadata": {
        "id": "Yoh4Ltp8LsWf"
      },
      "outputs": [],
      "source": [
        "from sklearn.model_selection import train_test_split\n",
        "X_train, X_test, y_train, y_test = train_test_split(X, y, test_size=0.2, random_state=0)"
      ]
    },
    {
      "cell_type": "code",
      "execution_count": null,
      "metadata": {
        "colab": {
          "base_uri": "https://localhost:8080/",
          "height": 74
        },
        "id": "DcumlvnfjjjU",
        "outputId": "9a288c6c-c794-4a84-9519-62fed216456a"
      },
      "outputs": [],
      "source": [
        "from sklearn.ensemble import RandomForestClassifier\n",
        "\n",
        "classifier = RandomForestClassifier(n_estimators=1000, random_state=0)\n",
        "classifier.fit(X_train, y_train)"
      ]
    },
    {
      "cell_type": "code",
      "execution_count": null,
      "metadata": {
        "id": "eTIfz9IBLxRp"
      },
      "outputs": [],
      "source": [
        "y_pred = classifier.predict(X_test)"
      ]
    },
    {
      "cell_type": "code",
      "execution_count": null,
      "metadata": {
        "colab": {
          "base_uri": "https://localhost:8080/"
        },
        "id": "t5cowkUnLzVa",
        "outputId": "99ebf1a6-2252-4d34-8c63-e449688a9257"
      },
      "outputs": [],
      "source": [
        "from sklearn.metrics import classification_report, confusion_matrix, accuracy_score\n",
        "\n",
        "print(confusion_matrix(y_test,y_pred))\n",
        "print(classification_report(y_test,y_pred))\n",
        "print(accuracy_score(y_test, y_pred))"
      ]
    },
    {
      "cell_type": "markdown",
      "metadata": {
        "id": "BrXmq40Md-fl"
      },
      "source": [
        "\n",
        "\n",
        "---\n",
        "\n",
        "\n",
        "\n",
        "---\n",
        "\n"
      ]
    },
    {
      "cell_type": "code",
      "execution_count": null,
      "metadata": {
        "id": "TvJWiBFNdgkm"
      },
      "outputs": [],
      "source": [
        "import pandas as pd\n",
        "\n",
        "#Importing the Dataset\n",
        "music_data = pd.read_csv('df_comb_with_mood.csv')\n"
      ]
    },
    {
      "cell_type": "code",
      "execution_count": null,
      "metadata": {
        "id": "ej8cezHUdotO"
      },
      "outputs": [],
      "source": [
        "col_names = [\"danceability\", \"valence\", \"energy\"]\n",
        "\n",
        "music_data = pd.read_csv('df_comb_with_mood.csv')"
      ]
    },
    {
      "cell_type": "code",
      "execution_count": null,
      "metadata": {
        "id": "PrvvRPeZenZI"
      },
      "outputs": [],
      "source": [
        "# Mapping class label to respective integer\n",
        "y = music_data['Mood'].map({'energetic': 0, 'happy': 1, 'inspiring': 2, 'romantic': 3, 'sad': 4})\n",
        "target_names = ['energetic', 'happy', 'inspiring', 'romantic', 'sad']"
      ]
    },
    {
      "cell_type": "code",
      "execution_count": null,
      "metadata": {
        "colab": {
          "base_uri": "https://localhost:8080/"
        },
        "id": "sVnWnP1vqrq-",
        "outputId": "4a189028-a021-4d6e-b31c-44d999ae4a15"
      },
      "outputs": [],
      "source": [
        "music_data.shape"
      ]
    },
    {
      "cell_type": "code",
      "execution_count": null,
      "metadata": {
        "colab": {
          "base_uri": "https://localhost:8080/"
        },
        "id": "Xi1d6SFYqtjj",
        "outputId": "e1edbb96-64fc-467f-e53d-c8a0be1e415e"
      },
      "outputs": [],
      "source": [
        "music_data['Mood'].value_counts()"
      ]
    },
    {
      "cell_type": "code",
      "execution_count": null,
      "metadata": {
        "colab": {
          "base_uri": "https://localhost:8080/"
        },
        "id": "jZAe5-bkqvTd",
        "outputId": "7d00fa0f-4448-425d-a28e-8ca36943de98"
      },
      "outputs": [],
      "source": [
        "music_data['Mood'].value_counts(normalize=True)"
      ]
    },
    {
      "cell_type": "code",
      "execution_count": null,
      "metadata": {
        "colab": {
          "base_uri": "https://localhost:8080/",
          "height": 500
        },
        "id": "f1BjMruhqxwb",
        "outputId": "737ddc28-a2b4-45d3-fbce-98fea83147a5"
      },
      "outputs": [],
      "source": [
        "music_data['Mood'].value_counts().plot.bar();"
      ]
    },
    {
      "cell_type": "code",
      "execution_count": null,
      "metadata": {
        "id": "Gc2l3RBvq0us"
      },
      "outputs": [],
      "source": [
        "music_data.describe().T"
      ]
    },
    {
      "cell_type": "code",
      "execution_count": null,
      "metadata": {
        "id": "oaceAUD-YSR2"
      },
      "outputs": [],
      "source": [
        "def clean_lyrics(lyric):\n",
        "    # Your preprocessing code here (e.g., remove punctuations, convert to lowercase)\n",
        "    lyric = re.sub(r'[^\\w\\s]', '', lyric)  # Remove punctuations\n",
        "    return lyric.lower()  # Convert to lowercase\n",
        "music_data['Lyric'] = music_data['Lyric'].apply(clean_lyrics)"
      ]
    },
    {
      "cell_type": "code",
      "execution_count": null,
      "metadata": {
        "id": "kRtKI2fLYGZO"
      },
      "outputs": [],
      "source": [
        "music_data['Lyric'] = music_data['Lyric'].apply(clean_lyrics)"
      ]
    },
    {
      "cell_type": "code",
      "execution_count": null,
      "metadata": {
        "id": "t-oBM-o-YacC"
      },
      "outputs": [],
      "source": [
        "# Split the dataset into training and test sets\n",
        "X_train, X_test, y_train, y_test = train_test_split(music_data['Lyric'], music_data['Mood'], test_size=0.2, random_state=42)"
      ]
    },
    {
      "cell_type": "code",
      "execution_count": null,
      "metadata": {
        "id": "XalKnJfkYrMm"
      },
      "outputs": [],
      "source": [
        "from sklearn.feature_extraction.text import TfidfVectorizer"
      ]
    },
    {
      "cell_type": "code",
      "execution_count": null,
      "metadata": {
        "id": "eWF82BbvYcWp"
      },
      "outputs": [],
      "source": [
        "# Create a TF-IDF vectorizer and fit it to the training data\n",
        "vectorizer = TfidfVectorizer()\n",
        "X_train_tfidf = vectorizer.fit_transform(X_train)\n",
        "X_test_tfidf = vectorizer.transform(X_test)"
      ]
    },
    {
      "cell_type": "code",
      "execution_count": null,
      "metadata": {
        "colab": {
          "base_uri": "https://localhost:8080/"
        },
        "id": "mCMcke5IrCB9",
        "outputId": "9af66714-57cf-43cf-f78a-7a2607061982"
      },
      "outputs": [],
      "source": [
        "xtrain_samples = X_train.shape[0]\n",
        "xtest_samples = X_test.shape[0]\n",
        "\n",
        "print(f'There are {xtrain_samples} samples for training and {xtest_samples} samples for testing.')"
      ]
    },
    {
      "cell_type": "code",
      "execution_count": null,
      "metadata": {
        "id": "UtlUxGs3rEOM"
      },
      "outputs": [],
      "source": [
        "from sklearn.svm import SVC\n",
        "svc = SVC(kernel='linear')"
      ]
    },
    {
      "cell_type": "code",
      "execution_count": null,
      "metadata": {
        "colab": {
          "base_uri": "https://localhost:8080/",
          "height": 74
        },
        "id": "Y-QbxqNpYzzA",
        "outputId": "cc263ee4-2bea-47c0-991a-edc988c81c64"
      },
      "outputs": [],
      "source": [
        "svc.fit(X_train_tfidf, y_train)"
      ]
    },
    {
      "cell_type": "code",
      "execution_count": null,
      "metadata": {
        "id": "6DaJL1masoUc"
      },
      "outputs": [],
      "source": [
        "y_pred = svc.predict(X_test_tfidf)"
      ]
    },
    {
      "cell_type": "code",
      "execution_count": null,
      "metadata": {
        "colab": {
          "base_uri": "https://localhost:8080/",
          "height": 740
        },
        "id": "0au7rLD-s16L",
        "outputId": "0451b8b2-fe58-4ff6-9c43-f4199c53d6a2"
      },
      "outputs": [],
      "source": [
        "from sklearn.metrics import classification_report, confusion_matrix\n",
        "\n",
        "cm = confusion_matrix(y_test,y_pred)\n",
        "sns.heatmap(cm, annot=True, fmt='d').set_title('Confusion matrix of linear SVM') # fmt='d' formats the numbers as digits, which means integers\n",
        "\n",
        "print(classification_report(y_test,y_pred))"
      ]
    },
    {
      "cell_type": "markdown",
      "metadata": {
        "id": "qkymrMbNtlTj"
      },
      "source": [
        "\n",
        "\n",
        "---\n",
        "\n",
        "\n",
        "\n",
        "---\n",
        "\n"
      ]
    }
  ],
  "metadata": {
    "colab": {
      "provenance": []
    },
    "kernelspec": {
      "display_name": "Python 3",
      "name": "python3"
    },
    "language_info": {
      "codemirror_mode": {
        "name": "ipython",
        "version": 3
      },
      "file_extension": ".py",
      "mimetype": "text/x-python",
      "name": "python",
      "nbconvert_exporter": "python",
      "pygments_lexer": "ipython3",
      "version": "3.8.2"
    }
  },
  "nbformat": 4,
  "nbformat_minor": 0
}
