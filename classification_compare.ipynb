{
  "cells": [
    {
      "cell_type": "code",
      "execution_count": 1,
      "metadata": {
        "colab": {
          "base_uri": "https://localhost:8080/"
        },
        "id": "ij45_Za46PQq",
        "outputId": "5fe04d84-4ce8-41b5-afef-5fd29b2e1a96"
      },
      "outputs": [
        {
          "name": "stderr",
          "output_type": "stream",
          "text": [
            "C:\\Users\\Vlad_\\AppData\\Local\\Temp\\ipykernel_8672\\2621929910.py:3: DeprecationWarning: \n",
            "  Function usage() has been deprecated.  Use help(obj) instead.\n",
            "  nltk.usage(nltk.classify.ClassifierI)\n"
          ]
        },
        {
          "name": "stdout",
          "output_type": "stream",
          "text": [
            "ClassifierI supports the following operations:\n",
            "  - self.classify(featureset)\n",
            "  - self.classify_many(featuresets)\n",
            "  - self.labels()\n",
            "  - self.prob_classify(featureset)\n",
            "  - self.prob_classify_many(featuresets)\n"
          ]
        }
      ],
      "source": [
        "import pandas as pd\n",
        "import nltk\n",
        "nltk.usage(nltk.classify.ClassifierI)\n",
        "import nltk\n",
        "import pandas as pd\n",
        "import re\n",
        "import random\n",
        "import matplotlib.pyplot as plt\n",
        "import numpy as np\n",
        "from nltk.corpus import stopwords\n",
        "#transform\n",
        "from sklearn.feature_extraction.text import CountVectorizer\n",
        "from sklearn.feature_extraction.text import TfidfTransformer\n",
        "#classifiers\n",
        "from nltk.classify import SklearnClassifier\n",
        "from sklearn.svm import SVC\n",
        "from sklearn.naive_bayes import BernoulliNB\n",
        "from sklearn.naive_bayes import MultinomialNB\n",
        "from sklearn.linear_model import SGDClassifier\n",
        "from sklearn.ensemble import RandomForestClassifier\n",
        "from sklearn.ensemble import GradientBoostingClassifier\n",
        "from sklearn.neighbors import KNeighborsClassifier\n",
        "from sklearn.model_selection import train_test_split\n",
        "from sklearn.metrics import accuracy_score\n",
        "from sklearn.metrics import confusion_matrix\n",
        "\n",
        "#utilities\n",
        "from sklearn.pipeline import Pipeline\n",
        "from sklearn import metrics\n",
        "from sklearn.model_selection import GridSearchCV\n",
        "\n",
        "#graphing\n",
        "import seaborn as sns"
      ]
    },
    {
      "cell_type": "code",
      "execution_count": 2,
      "metadata": {
        "id": "ECZp64Yz6Y76"
      },
      "outputs": [],
      "source": [
        "def assign_mood(row):\n",
        "    if row['energy'] >= 0.8 and row['valence'] >= 0.04 and row['danceability'] >= 0.4:\n",
        "        return 'energetic'\n",
        "    elif row['energy'] < 0.2240 and row['valence'] < 0.393 and row['danceability'] < 0.507:\n",
        "        return 'sad'\n",
        "    elif row['energy'] >= 0.7 and row['valence'] >= 0.7 and row['danceability'] >= 0.6:\n",
        "        return 'happy'\n",
        "    elif row['energy'] <= 0.320 and row['valence'] >= 0.3 and row['danceability'] >= 0.572:\n",
        "        return 'romantic'\n",
        "    elif row['energy'] >= 0.000282 and row['valence'] >= 0.01 and row['danceability'] >= 0.0499:\n",
        "        return 'inspiring'\n",
        "    elif row['energy'] > 0.2 and row['valence'] >= 0.6 and row['danceability'] >= 0.5:\n",
        "        return 'hopeful'\n",
        "    elif row['energy'] > 0.324 and row['valence'] >= 0.03 and row['danceability'] >= 0.2:\n",
        "        return 'calm'\n",
        "    elif row['energy'] < 0.324 and row['valence'] <= 0.239 and row['danceability'] <= 0.658:\n",
        "        return 'reflective'\n",
        "    elif row['energy'] >= 0.858 and row['valence'] < 0.682 and row['danceability'] < 0.737:\n",
        "        return 'upbeat'\n",
        "\n",
        "    # Add more conditions for other mood types"
      ]
    },
    {
      "cell_type": "code",
      "execution_count": 3,
      "metadata": {
        "id": "g-t0rpQh6d9W"
      },
      "outputs": [],
      "source": [
        "df_m = pd.read_csv('df_comb.csv')"
      ]
    },
    {
      "cell_type": "code",
      "execution_count": 4,
      "metadata": {
        "colab": {
          "base_uri": "https://localhost:8080/",
          "height": 330
        },
        "id": "B2kL28_D6pWD",
        "outputId": "642237b5-ccdf-46be-c443-63514d37567e"
      },
      "outputs": [
        {
          "data": {
            "text/html": [
              "<div>\n",
              "<style scoped>\n",
              "    .dataframe tbody tr th:only-of-type {\n",
              "        vertical-align: middle;\n",
              "    }\n",
              "\n",
              "    .dataframe tbody tr th {\n",
              "        vertical-align: top;\n",
              "    }\n",
              "\n",
              "    .dataframe thead th {\n",
              "        text-align: right;\n",
              "    }\n",
              "</style>\n",
              "<table border=\"1\" class=\"dataframe\">\n",
              "  <thead>\n",
              "    <tr style=\"text-align: right;\">\n",
              "      <th></th>\n",
              "      <th>id</th>\n",
              "      <th>name</th>\n",
              "      <th>popularity</th>\n",
              "      <th>duration_ms</th>\n",
              "      <th>explicit</th>\n",
              "      <th>artists</th>\n",
              "      <th>id_artists</th>\n",
              "      <th>release_date</th>\n",
              "      <th>danceability</th>\n",
              "      <th>energy</th>\n",
              "      <th>...</th>\n",
              "      <th>instrumentalness</th>\n",
              "      <th>liveness</th>\n",
              "      <th>valence</th>\n",
              "      <th>tempo</th>\n",
              "      <th>time_signature</th>\n",
              "      <th>SLink</th>\n",
              "      <th>Lyric</th>\n",
              "      <th>language</th>\n",
              "      <th>Genres</th>\n",
              "      <th>clean lyric</th>\n",
              "    </tr>\n",
              "  </thead>\n",
              "  <tbody>\n",
              "    <tr>\n",
              "      <th>0</th>\n",
              "      <td>1XXimziG1uhM0eDNCZCrUl</td>\n",
              "      <td>Up</td>\n",
              "      <td>92</td>\n",
              "      <td>156945</td>\n",
              "      <td>1</td>\n",
              "      <td>cardi b</td>\n",
              "      <td>['4kYSro6naA4h99UJvo89HB']</td>\n",
              "      <td>2021-02-05</td>\n",
              "      <td>0.868</td>\n",
              "      <td>0.795</td>\n",
              "      <td>...</td>\n",
              "      <td>0.0193</td>\n",
              "      <td>0.0461</td>\n",
              "      <td>0.819</td>\n",
              "      <td>166.0</td>\n",
              "      <td>4</td>\n",
              "      <td>/cardi-b/up.html</td>\n",
              "      <td>Up, up, up (Ayy) , up (Uh) , up, look (This is...</td>\n",
              "      <td>en</td>\n",
              "      <td>['Hip Hop', 'Rap']</td>\n",
              "      <td>ayy uh look fire upon time man heard ugly came...</td>\n",
              "    </tr>\n",
              "  </tbody>\n",
              "</table>\n",
              "<p>1 rows × 25 columns</p>\n",
              "</div>"
            ],
            "text/plain": [
              "                       id name  popularity  duration_ms  explicit  artists   \n",
              "0  1XXimziG1uhM0eDNCZCrUl   Up          92       156945         1  cardi b  \\\n",
              "\n",
              "                   id_artists release_date  danceability  energy  ...   \n",
              "0  ['4kYSro6naA4h99UJvo89HB']   2021-02-05         0.868   0.795  ...  \\\n",
              "\n",
              "   instrumentalness  liveness  valence  tempo  time_signature   \n",
              "0            0.0193    0.0461    0.819  166.0               4  \\\n",
              "\n",
              "              SLink                                              Lyric   \n",
              "0  /cardi-b/up.html  Up, up, up (Ayy) , up (Uh) , up, look (This is...  \\\n",
              "\n",
              "   language              Genres   \n",
              "0        en  ['Hip Hop', 'Rap']  \\\n",
              "\n",
              "                                         clean lyric  \n",
              "0  ayy uh look fire upon time man heard ugly came...  \n",
              "\n",
              "[1 rows x 25 columns]"
            ]
          },
          "execution_count": 4,
          "metadata": {},
          "output_type": "execute_result"
        }
      ],
      "source": [
        "df_m.head(1)"
      ]
    },
    {
      "cell_type": "code",
      "execution_count": 5,
      "metadata": {
        "colab": {
          "base_uri": "https://localhost:8080/",
          "height": 171
        },
        "id": "j6SSBVS16xec",
        "outputId": "dcb7609a-a7b6-4c71-8585-cef861ba8ed6"
      },
      "outputs": [],
      "source": [
        "df_m  ['mood'] = df_m .apply(assign_mood, axis=1)"
      ]
    },
    {
      "cell_type": "code",
      "execution_count": 6,
      "metadata": {
        "colab": {
          "base_uri": "https://localhost:8080/",
          "height": 189
        },
        "id": "AFFNKlM461LI",
        "outputId": "c2ef088c-2a3c-4948-a2ae-960510f1a808"
      },
      "outputs": [
        {
          "data": {
            "text/html": [
              "<div>\n",
              "<style scoped>\n",
              "    .dataframe tbody tr th:only-of-type {\n",
              "        vertical-align: middle;\n",
              "    }\n",
              "\n",
              "    .dataframe tbody tr th {\n",
              "        vertical-align: top;\n",
              "    }\n",
              "\n",
              "    .dataframe thead th {\n",
              "        text-align: right;\n",
              "    }\n",
              "</style>\n",
              "<table border=\"1\" class=\"dataframe\">\n",
              "  <thead>\n",
              "    <tr style=\"text-align: right;\">\n",
              "      <th></th>\n",
              "      <th>id</th>\n",
              "      <th>name</th>\n",
              "      <th>popularity</th>\n",
              "      <th>duration_ms</th>\n",
              "      <th>explicit</th>\n",
              "      <th>artists</th>\n",
              "      <th>id_artists</th>\n",
              "      <th>release_date</th>\n",
              "      <th>danceability</th>\n",
              "      <th>energy</th>\n",
              "      <th>...</th>\n",
              "      <th>liveness</th>\n",
              "      <th>valence</th>\n",
              "      <th>tempo</th>\n",
              "      <th>time_signature</th>\n",
              "      <th>SLink</th>\n",
              "      <th>Lyric</th>\n",
              "      <th>language</th>\n",
              "      <th>Genres</th>\n",
              "      <th>clean lyric</th>\n",
              "      <th>mood</th>\n",
              "    </tr>\n",
              "  </thead>\n",
              "  <tbody>\n",
              "    <tr>\n",
              "      <th>0</th>\n",
              "      <td>1XXimziG1uhM0eDNCZCrUl</td>\n",
              "      <td>Up</td>\n",
              "      <td>92</td>\n",
              "      <td>156945</td>\n",
              "      <td>1</td>\n",
              "      <td>cardi b</td>\n",
              "      <td>['4kYSro6naA4h99UJvo89HB']</td>\n",
              "      <td>2021-02-05</td>\n",
              "      <td>0.868</td>\n",
              "      <td>0.795</td>\n",
              "      <td>...</td>\n",
              "      <td>0.0461</td>\n",
              "      <td>0.819</td>\n",
              "      <td>166.0</td>\n",
              "      <td>4</td>\n",
              "      <td>/cardi-b/up.html</td>\n",
              "      <td>Up, up, up (Ayy) , up (Uh) , up, look (This is...</td>\n",
              "      <td>en</td>\n",
              "      <td>['Hip Hop', 'Rap']</td>\n",
              "      <td>ayy uh look fire upon time man heard ugly came...</td>\n",
              "      <td>happy</td>\n",
              "    </tr>\n",
              "  </tbody>\n",
              "</table>\n",
              "<p>1 rows × 26 columns</p>\n",
              "</div>"
            ],
            "text/plain": [
              "                       id name  popularity  duration_ms  explicit  artists   \n",
              "0  1XXimziG1uhM0eDNCZCrUl   Up          92       156945         1  cardi b  \\\n",
              "\n",
              "                   id_artists release_date  danceability  energy  ...   \n",
              "0  ['4kYSro6naA4h99UJvo89HB']   2021-02-05         0.868   0.795  ...  \\\n",
              "\n",
              "   liveness  valence  tempo  time_signature             SLink   \n",
              "0    0.0461    0.819  166.0               4  /cardi-b/up.html  \\\n",
              "\n",
              "                                               Lyric  language   \n",
              "0  Up, up, up (Ayy) , up (Uh) , up, look (This is...        en  \\\n",
              "\n",
              "               Genres                                        clean lyric   \n",
              "0  ['Hip Hop', 'Rap']  ayy uh look fire upon time man heard ugly came...  \\\n",
              "\n",
              "    mood  \n",
              "0  happy  \n",
              "\n",
              "[1 rows x 26 columns]"
            ]
          },
          "execution_count": 6,
          "metadata": {},
          "output_type": "execute_result"
        }
      ],
      "source": [
        "df_m.head(1)\n",
        "\n"
      ]
    },
    {
      "cell_type": "code",
      "execution_count": 7,
      "metadata": {
        "colab": {
          "base_uri": "https://localhost:8080/"
        },
        "id": "hqo4OqA77OjH",
        "outputId": "c3f49b1a-9302-4ec2-87d0-96df92c51d4c"
      },
      "outputs": [
        {
          "data": {
            "text/plain": [
              "id                  0\n",
              "name                0\n",
              "popularity          0\n",
              "duration_ms         0\n",
              "explicit            0\n",
              "artists             0\n",
              "id_artists          0\n",
              "release_date        0\n",
              "danceability        0\n",
              "energy              0\n",
              "key                 0\n",
              "loudness            0\n",
              "mode                0\n",
              "speechiness         0\n",
              "acousticness        0\n",
              "instrumentalness    0\n",
              "liveness            0\n",
              "valence             0\n",
              "tempo               0\n",
              "time_signature      0\n",
              "SLink               0\n",
              "Lyric               0\n",
              "language            0\n",
              "Genres              0\n",
              "clean lyric         0\n",
              "mood                0\n",
              "dtype: int64"
            ]
          },
          "execution_count": 7,
          "metadata": {},
          "output_type": "execute_result"
        }
      ],
      "source": [
        "df_m.isnull().sum()"
      ]
    },
    {
      "cell_type": "code",
      "execution_count": 8,
      "metadata": {
        "colab": {
          "base_uri": "https://localhost:8080/",
          "height": 449
        },
        "id": "Rf0eDh3H7VMd",
        "outputId": "38226130-b082-4346-f484-cd1d25623679"
      },
      "outputs": [
        {
          "data": {
            "image/png": "[encoded data removed]",
            "text/plain": [
              "<Figure size 640x480 with 1 Axes>"
            ]
          },
          "metadata": {},
          "output_type": "display_data"
        }
      ],
      "source": [
        "import pandas as pd\n",
        "import seaborn as sns\n",
        "\n",
        "# Assuming you have a DataFrame called 'df' and a column named 'mood' containing mood labels\n",
        "# Convert the 'mood' column to categorical data type\n",
        "df_m['mood'] = pd.Categorical(df_m['mood'])\n",
        "\n",
        "# Plot the count of each mood category\n",
        "sns.countplot(data=df_m, x='mood')\n",
        "\n",
        "# Display the plot\n",
        "plt.show()"
      ]
    },
    {
      "cell_type": "code",
      "execution_count": 9,
      "metadata": {
        "id": "20iLnpQU8CtC"
      },
      "outputs": [],
      "source": [
        "import pandas as pd\n",
        "from sklearn.preprocessing import StandardScaler\n",
        "from sklearn.neural_network import MLPClassifier\n",
        "from sklearn.metrics import accuracy_score\n",
        "from sklearn.model_selection import cross_val_score, cross_val_predict\n",
        "from sklearn.model_selection import train_test_split\n",
        "from sklearn.model_selection import GridSearchCV\n",
        "import numpy as np"
      ]
    },
    {
      "cell_type": "code",
      "execution_count": 10,
      "metadata": {
        "colab": {
          "base_uri": "https://localhost:8080/"
        },
        "id": "Ra7vmBW47n8F",
        "outputId": "3143608b-01b2-42dc-af35-e7a73f2cd77e"
      },
      "outputs": [
        {
          "name": "stdout",
          "output_type": "stream",
          "text": [
            "cv score: 0.9262765571110398\n"
          ]
        }
      ],
      "source": [
        "features_for_mood = ['energy', 'danceability', 'valence']\n",
        "\n",
        "\n",
        "hyper_opt = False\n",
        "\n",
        "#split into trainval and test\n",
        "trainx, testx, trainy, testy = train_test_split(df_m[features_for_mood], df_m['mood'], test_size = 0.33,\n",
        "                                                random_state = 42, stratify=df_m['mood'])\n",
        "\n",
        "scaler = StandardScaler()\n",
        "train_scaled = scaler.fit_transform(trainx)\n",
        "\n",
        "nn = MLPClassifier(max_iter = 15000, alpha=1.0, hidden_layer_sizes=8)\n",
        "scores = cross_val_score(nn, train_scaled, trainy, cv=5)\n",
        "print (\"cv score: \" + str(scores.mean()))\n",
        "\n",
        "if hyper_opt:\n",
        "    params = {\"alpha\": np.logspace(-4, 2, 7), 'hidden_layer_sizes': [1, 2, 5, 10, 20, 50, 100]}\n",
        "    clf = GridSearchCV(nn, params)\n",
        "    clf.fit(train_scaled, trainy)\n",
        "    print(\"hyperparam optimized score : \" + str(clf.best_score_))\n",
        "    import pdb\n",
        "    pdb.set_trace()"
      ]
    },
    {
      "cell_type": "code",
      "execution_count": 11,
      "metadata": {
        "id": "oJCzyVnA8N_O"
      },
      "outputs": [],
      "source": [
        "from sklearn.model_selection import cross_validate"
      ]
    },
    {
      "cell_type": "code",
      "execution_count": 12,
      "metadata": {
        "id": "xciEWD098RfC"
      },
      "outputs": [],
      "source": [
        "results = cross_validate(nn, train_scaled, trainy, return_train_score=True)"
      ]
    },
    {
      "cell_type": "code",
      "execution_count": 13,
      "metadata": {
        "colab": {
          "base_uri": "https://localhost:8080/"
        },
        "id": "9MIO1xpj8URG",
        "outputId": "20050549-2a71-4061-d5ca-d5716aca608a"
      },
      "outputs": [
        {
          "data": {
            "text/plain": [
              "{'fit_time': array([4.32219005, 4.13952732, 4.52859545, 2.67621803, 4.61456084]),\n",
              " 'score_time': array([0.00200081, 0.0019896 , 0.00197124, 0.00197148, 0.00302887]),\n",
              " 'test_score': array([0.91792489, 0.92837786, 0.92915215, 0.92873741, 0.93144849]),\n",
              " 'train_score': array([0.93000968, 0.92817038, 0.92429816, 0.92478947, 0.93011325])}"
            ]
          },
          "execution_count": 13,
          "metadata": {},
          "output_type": "execute_result"
        }
      ],
      "source": [
        "results"
      ]
    },
    {
      "cell_type": "code",
      "execution_count": 14,
      "metadata": {
        "id": "4lhMcy0-8XH9"
      },
      "outputs": [],
      "source": [
        "nn = MLPClassifier(hidden_layer_sizes=8, max_iter=15000, alpha=1.0)"
      ]
    },
    {
      "cell_type": "code",
      "execution_count": 15,
      "metadata": {
        "colab": {
          "base_uri": "https://localhost:8080/"
        },
        "id": "Fgm5vd6S8Zxt",
        "outputId": "fe3c4181-6b68-4b43-e549-da9bd858a5fc"
      },
      "outputs": [
        {
          "data": {
            "text/plain": [
              "0.9320861499764188"
            ]
          },
          "execution_count": 15,
          "metadata": {},
          "output_type": "execute_result"
        }
      ],
      "source": [
        "nn.fit(train_scaled, trainy)\n",
        "test_preds = nn.predict(scaler.transform(testx))\n",
        "accuracy_score(test_preds, testy)"
      ]
    },
    {
      "cell_type": "code",
      "execution_count": 16,
      "metadata": {
        "id": "I77hf2zp8ylg"
      },
      "outputs": [],
      "source": [
        "import seaborn as sn\n",
        "from sklearn.metrics import confusion_matrix"
      ]
    },
    {
      "cell_type": "code",
      "execution_count": 17,
      "metadata": {
        "id": "PK5SdWeI8iVr"
      },
      "outputs": [],
      "source": [
        "conf_matrix = confusion_matrix(testy, test_preds, labels = df_m['mood'].unique().tolist())"
      ]
    },
    {
      "cell_type": "code",
      "execution_count": 18,
      "metadata": {
        "id": "NzcCRwd68ovc"
      },
      "outputs": [],
      "source": [
        "labels = df_m['mood'].unique().tolist()"
      ]
    },
    {
      "cell_type": "code",
      "execution_count": 19,
      "metadata": {
        "colab": {
          "base_uri": "https://localhost:8080/",
          "height": 487
        },
        "id": "KWTaCKShimSV",
        "outputId": "7dc638bb-e635-44d6-8766-ced2dfbc0f12"
      },
      "outputs": [
        {
          "data": {
            "image/png": "[encoded data removed]",
            "text/plain": [
              "<Figure size 700x500 with 2 Axes>"
            ]
          },
          "metadata": {},
          "output_type": "display_data"
        }
      ],
      "source": [
        "import matplotlib.pyplot as plt\n",
        "import seaborn as sn\n",
        "\n",
        "plt.rcParams['figure.figsize'] = (7, 5)\n",
        "\n",
        "# Define the labels\n",
        "labels = ['energetic', 'happy', 'inspiring', 'romantic', 'sad']\n",
        "\n",
        "# Create the subplot and plot the confusion matrix\n",
        "ax = plt.subplot()\n",
        "sn.heatmap(conf_matrix, annot=True, fmt='d', cmap='Blues')\n",
        "\n",
        "# Set the labels and title\n",
        "ax.set_xlabel('Predicted labels')\n",
        "ax.set_ylabel('True labels')\n",
        "ax.set_title('Confusion Matrix')\n",
        "\n",
        "# Set the tick labels\n",
        "ax.xaxis.set_ticklabels(labels)\n",
        "ax.yaxis.set_ticklabels(labels)\n",
        "\n",
        "# Display the plot\n",
        "plt.show()"
      ]
    },
    {
      "cell_type": "code",
      "execution_count": 20,
      "metadata": {
        "id": "bwCFlR7Z9641"
      },
      "outputs": [],
      "source": [
        "import matplotlib.pyplot as plt\n",
        "%matplotlib inline\n",
        "plt.rcParams['figure.figsize'] = (5,5)"
      ]
    },
    {
      "cell_type": "code",
      "execution_count": 21,
      "metadata": {
        "id": "CrjxqA3A9-cd"
      },
      "outputs": [],
      "source": [
        "from sklearn.model_selection import learning_curve\n",
        "train_sizes, train_scores, val_scores = learning_curve(nn, train_scaled, trainy, cv=5)"
      ]
    },
    {
      "cell_type": "code",
      "execution_count": 22,
      "metadata": {
        "colab": {
          "base_uri": "https://localhost:8080/",
          "height": 483
        },
        "id": "SAmz42NR-BUM",
        "outputId": "b6c26039-5355-4d6a-e61d-476b303d0be6"
      },
      "outputs": [
        {
          "data": {
            "text/plain": [
              "<matplotlib.legend.Legend at 0x26e8e915dc0>"
            ]
          },
          "execution_count": 22,
          "metadata": {},
          "output_type": "execute_result"
        },
        {
          "data": {
            "image/png": "[encoded data removed]",
            "text/plain": [
              "<Figure size 500x500 with 1 Axes>"
            ]
          },
          "metadata": {},
          "output_type": "display_data"
        }
      ],
      "source": [
        "train_scores_mean = np.mean(train_scores, axis=1)\n",
        "val_scores_mean = np.mean(val_scores, axis=1)\n",
        "plt.plot(train_sizes, train_scores_mean, label='training score')\n",
        "plt.plot(train_sizes, val_scores_mean, label='validation score')\n",
        "plt.xlabel('training size')\n",
        "plt.legend()"
      ]
    },
    {
      "cell_type": "markdown",
      "metadata": {
        "id": "9ybwT-gVK6fR"
      },
      "source": [
        "\n",
        "\n",
        "---\n",
        "\n",
        "#RandomForest Classiefier"
      ]
    },
    {
      "cell_type": "code",
      "execution_count": 23,
      "metadata": {
        "colab": {
          "base_uri": "https://localhost:8080/"
        },
        "id": "CHYH7JThLm3i",
        "outputId": "6a48f81e-1407-49eb-ebec-e08e9ed5cfbd"
      },
      "outputs": [
        {
          "name": "stderr",
          "output_type": "stream",
          "text": [
            "[nltk_data] Downloading package stopwords to\n",
            "[nltk_data]     C:\\Users\\Vlad_\\AppData\\Roaming\\nltk_data...\n",
            "[nltk_data]   Package stopwords is already up-to-date!\n"
          ]
        }
      ],
      "source": [
        "#Importing Libraries Execute the following script to import the required libraries\n",
        "import numpy as np\n",
        "import re\n",
        "import nltk\n",
        "from sklearn.datasets import load_files\n",
        "nltk.download('stopwords')\n",
        "import pickle\n",
        "from nltk.corpus import stopwords"
      ]
    },
    {
      "cell_type": "code",
      "execution_count": 26,
      "metadata": {
        "id": "N7Tl6u6vKz65"
      },
      "outputs": [],
      "source": [
        "#Importing the Dataset\n",
        "music_data = pd.read_csv('df_comb_with_mood.csv')\n",
        "X, y = music_data['clean lyric'], music_data['Mood']"
      ]
    },
    {
      "cell_type": "code",
      "execution_count": 27,
      "metadata": {
        "id": "ZkgZIYKfLg-d"
      },
      "outputs": [],
      "source": [
        "from sklearn.feature_extraction.text import CountVectorizer\n",
        "vectorizer = CountVectorizer(max_features=1500, min_df=5, max_df=0.7, stop_words=stopwords.words('english'))\n",
        "X = vectorizer.fit_transform(music_data['clean lyric']).toarray()"
      ]
    },
    {
      "cell_type": "code",
      "execution_count": 28,
      "metadata": {
        "id": "arhw84kpLqBR"
      },
      "outputs": [],
      "source": [
        "from sklearn.feature_extraction.text import TfidfTransformer\n",
        "tfidfconverter = TfidfTransformer()\n",
        "X = tfidfconverter.fit_transform(X).toarray()"
      ]
    },
    {
      "cell_type": "code",
      "execution_count": 29,
      "metadata": {
        "id": "Yoh4Ltp8LsWf"
      },
      "outputs": [],
      "source": [
        "from sklearn.model_selection import train_test_split\n",
        "X_train, X_test, y_train, y_test = train_test_split(X, y, test_size=0.2, random_state=0)"
      ]
    },
    {
      "cell_type": "code",
      "execution_count": 30,
      "metadata": {
        "colab": {
          "base_uri": "https://localhost:8080/",
          "height": 74
        },
        "id": "DcumlvnfjjjU",
        "outputId": "06b162b9-61db-4621-ee51-2a452b5eadf6"
      },
      "outputs": [
        {
          "data": {
            "text/html": [
              "<style>#sk-container-id-1 {color: black;background-color: white;}#sk-container-id-1 pre{padding: 0;}#sk-container-id-1 div.sk-toggleable {background-color: white;}#sk-container-id-1 label.sk-toggleable__label {cursor: pointer;display: block;width: 100%;margin-bottom: 0;padding: 0.3em;box-sizing: border-box;text-align: center;}#sk-container-id-1 label.sk-toggleable__label-arrow:before {content: \"▸\";float: left;margin-right: 0.25em;color: #696969;}#sk-container-id-1 label.sk-toggleable__label-arrow:hover:before {color: black;}#sk-container-id-1 div.sk-estimator:hover label.sk-toggleable__label-arrow:before {color: black;}#sk-container-id-1 div.sk-toggleable__content {max-height: 0;max-width: 0;overflow: hidden;text-align: left;background-color: #f0f8ff;}#sk-container-id-1 div.sk-toggleable__content pre {margin: 0.2em;color: black;border-radius: 0.25em;background-color: #f0f8ff;}#sk-container-id-1 input.sk-toggleable__control:checked~div.sk-toggleable__content {max-height: 200px;max-width: 100%;overflow: auto;}#sk-container-id-1 input.sk-toggleable__control:checked~label.sk-toggleable__label-arrow:before {content: \"▾\";}#sk-container-id-1 div.sk-estimator input.sk-toggleable__control:checked~label.sk-toggleable__label {background-color: #d4ebff;}#sk-container-id-1 div.sk-label input.sk-toggleable__control:checked~label.sk-toggleable__label {background-color: #d4ebff;}#sk-container-id-1 input.sk-hidden--visually {border: 0;clip: rect(1px 1px 1px 1px);clip: rect(1px, 1px, 1px, 1px);height: 1px;margin: -1px;overflow: hidden;padding: 0;position: absolute;width: 1px;}#sk-container-id-1 div.sk-estimator {font-family: monospace;background-color: #f0f8ff;border: 1px dotted black;border-radius: 0.25em;box-sizing: border-box;margin-bottom: 0.5em;}#sk-container-id-1 div.sk-estimator:hover {background-color: #d4ebff;}#sk-container-id-1 div.sk-parallel-item::after {content: \"\";width: 100%;border-bottom: 1px solid gray;flex-grow: 1;}#sk-container-id-1 div.sk-label:hover label.sk-toggleable__label {background-color: #d4ebff;}#sk-container-id-1 div.sk-serial::before {content: \"\";position: absolute;border-left: 1px solid gray;box-sizing: border-box;top: 0;bottom: 0;left: 50%;z-index: 0;}#sk-container-id-1 div.sk-serial {display: flex;flex-direction: column;align-items: center;background-color: white;padding-right: 0.2em;padding-left: 0.2em;position: relative;}#sk-container-id-1 div.sk-item {position: relative;z-index: 1;}#sk-container-id-1 div.sk-parallel {display: flex;align-items: stretch;justify-content: center;background-color: white;position: relative;}#sk-container-id-1 div.sk-item::before, #sk-container-id-1 div.sk-parallel-item::before {content: \"\";position: absolute;border-left: 1px solid gray;box-sizing: border-box;top: 0;bottom: 0;left: 50%;z-index: -1;}#sk-container-id-1 div.sk-parallel-item {display: flex;flex-direction: column;z-index: 1;position: relative;background-color: white;}#sk-container-id-1 div.sk-parallel-item:first-child::after {align-self: flex-end;width: 50%;}#sk-container-id-1 div.sk-parallel-item:last-child::after {align-self: flex-start;width: 50%;}#sk-container-id-1 div.sk-parallel-item:only-child::after {width: 0;}#sk-container-id-1 div.sk-dashed-wrapped {border: 1px dashed gray;margin: 0 0.4em 0.5em 0.4em;box-sizing: border-box;padding-bottom: 0.4em;background-color: white;}#sk-container-id-1 div.sk-label label {font-family: monospace;font-weight: bold;display: inline-block;line-height: 1.2em;}#sk-container-id-1 div.sk-label-container {text-align: center;}#sk-container-id-1 div.sk-container {/* jupyter's `normalize.less` sets `[hidden] { display: none; }` but bootstrap.min.css set `[hidden] { display: none !important; }` so we also need the `!important` here to be able to override the default hidden behavior on the sphinx rendered scikit-learn.org. See: https://github.com/scikit-learn/scikit-learn/issues/21755 */display: inline-block !important;position: relative;}#sk-container-id-1 div.sk-text-repr-fallback {display: none;}</style><div id=\"sk-container-id-1\" class=\"sk-top-container\"><div class=\"sk-text-repr-fallback\"><pre>RandomForestClassifier(n_estimators=1000, random_state=0)</pre><b>In a Jupyter environment, please rerun this cell to show the HTML representation or trust the notebook. <br />On GitHub, the HTML representation is unable to render, please try loading this page with nbviewer.org.</b></div><div class=\"sk-container\" hidden><div class=\"sk-item\"><div class=\"sk-estimator sk-toggleable\"><input class=\"sk-toggleable__control sk-hidden--visually\" id=\"sk-estimator-id-1\" type=\"checkbox\" checked><label for=\"sk-estimator-id-1\" class=\"sk-toggleable__label sk-toggleable__label-arrow\">RandomForestClassifier</label><div class=\"sk-toggleable__content\"><pre>RandomForestClassifier(n_estimators=1000, random_state=0)</pre></div></div></div></div></div>"
            ],
            "text/plain": [
              "RandomForestClassifier(n_estimators=1000, random_state=0)"
            ]
          },
          "execution_count": 30,
          "metadata": {},
          "output_type": "execute_result"
        }
      ],
      "source": [
        "from sklearn.ensemble import RandomForestClassifier\n",
        "\n",
        "classifier = RandomForestClassifier(n_estimators=1000, random_state=0)\n",
        "classifier.fit(X_train, y_train)"
      ]
    },
    {
      "cell_type": "code",
      "execution_count": 31,
      "metadata": {
        "id": "eTIfz9IBLxRp"
      },
      "outputs": [],
      "source": [
        "y_pred = classifier.predict(X_test)"
      ]
    },
    {
      "cell_type": "code",
      "execution_count": 32,
      "metadata": {
        "colab": {
          "base_uri": "https://localhost:8080/"
        },
        "id": "t5cowkUnLzVa",
        "outputId": "904d90b3-bddd-4337-add5-dc485591c6dc"
      },
      "outputs": [
        {
          "name": "stdout",
          "output_type": "stream",
          "text": [
            "[[   0    0    0   12   12    2    0    0]\n",
            " [   0    1    0   43  111    5    0    0]\n",
            " [   0    0    3   35   41    7    0    0]\n",
            " [   0    0    0  576  508   37    0    0]\n",
            " [   0    0    0  191 1048   39    1    0]\n",
            " [   0    0    0  176  368  165    0    0]\n",
            " [   0    0    1   23   40   18    4    0]\n",
            " [   0    0    0  171  182   25    0   10]]\n",
            "              precision    recall  f1-score   support\n",
            "\n",
            "        Calm       0.00      0.00      0.00        26\n",
            "   Energetic       1.00      0.01      0.01       160\n",
            "       Happy       0.75      0.03      0.07        86\n",
            "     Hopeful       0.47      0.51      0.49      1121\n",
            "   Inspiring       0.45      0.82      0.58      1279\n",
            "  Reflective       0.55      0.23      0.33       709\n",
            "    Romantic       0.80      0.05      0.09        86\n",
            "         Sad       1.00      0.03      0.05       388\n",
            "\n",
            "    accuracy                           0.47      3855\n",
            "   macro avg       0.63      0.21      0.20      3855\n",
            "weighted avg       0.57      0.47      0.41      3855\n",
            "\n",
            "0.4687418936446174\n"
          ]
        },
        {
          "name": "stderr",
          "output_type": "stream",
          "text": [
            "c:\\Users\\Vlad_\\AppData\\Local\\Programs\\Python\\Python38\\lib\\site-packages\\sklearn\\metrics\\_classification.py:1344: UndefinedMetricWarning: Precision and F-score are ill-defined and being set to 0.0 in labels with no predicted samples. Use `zero_division` parameter to control this behavior.\n",
            "  _warn_prf(average, modifier, msg_start, len(result))\n",
            "c:\\Users\\Vlad_\\AppData\\Local\\Programs\\Python\\Python38\\lib\\site-packages\\sklearn\\metrics\\_classification.py:1344: UndefinedMetricWarning: Precision and F-score are ill-defined and being set to 0.0 in labels with no predicted samples. Use `zero_division` parameter to control this behavior.\n",
            "  _warn_prf(average, modifier, msg_start, len(result))\n",
            "c:\\Users\\Vlad_\\AppData\\Local\\Programs\\Python\\Python38\\lib\\site-packages\\sklearn\\metrics\\_classification.py:1344: UndefinedMetricWarning: Precision and F-score are ill-defined and being set to 0.0 in labels with no predicted samples. Use `zero_division` parameter to control this behavior.\n",
            "  _warn_prf(average, modifier, msg_start, len(result))\n"
          ]
        }
      ],
      "source": [
        "from sklearn.metrics import classification_report, confusion_matrix, accuracy_score\n",
        "\n",
        "print(confusion_matrix(y_test,y_pred))\n",
        "print(classification_report(y_test,y_pred))\n",
        "print(accuracy_score(y_test, y_pred))"
      ]
    },
    {
      "cell_type": "markdown",
      "metadata": {
        "id": "BrXmq40Md-fl"
      },
      "source": [
        "\n",
        "\n",
        "---\n",
        "\n",
        "\n",
        "\n",
        "---\n",
        "\n"
      ]
    },
    {
      "cell_type": "code",
      "execution_count": 33,
      "metadata": {
        "id": "TvJWiBFNdgkm"
      },
      "outputs": [],
      "source": [
        "import pandas as pd\n",
        "\n",
        "#Importing the Dataset\n",
        "music_data = pd.read_csv('df_comb_with_mood.csv')\n"
      ]
    },
    {
      "cell_type": "code",
      "execution_count": 34,
      "metadata": {
        "id": "ej8cezHUdotO"
      },
      "outputs": [],
      "source": [
        "\n",
        "col_names = [\"danceability\", \"valence\", \"energy\"]\n",
        "\n",
        "music_data = pd.read_csv('df_comb_with_mood.csv')\n",
        "#music_data.head()"
      ]
    },
    {
      "cell_type": "code",
      "execution_count": 35,
      "metadata": {
        "id": "PrvvRPeZenZI"
      },
      "outputs": [],
      "source": [
        "# Mapping class label to respective integer\n",
        "y = music_data['Mood'].map({'energetic': 0, 'happy': 1, 'inspiring': 2, 'romantic': 3, 'sad': 4})\n",
        "target_names = ['energetic', 'happy', 'inspiring', 'romantic', 'sad']"
      ]
    },
    {
      "cell_type": "code",
      "execution_count": 36,
      "metadata": {
        "colab": {
          "base_uri": "https://localhost:8080/"
        },
        "id": "sVnWnP1vqrq-",
        "outputId": "92d8d744-a8cc-41d8-d061-80f41d63c9db"
      },
      "outputs": [
        {
          "data": {
            "text/plain": [
              "(19274, 26)"
            ]
          },
          "execution_count": 36,
          "metadata": {},
          "output_type": "execute_result"
        }
      ],
      "source": [
        "music_data.shape"
      ]
    },
    {
      "cell_type": "code",
      "execution_count": 37,
      "metadata": {
        "colab": {
          "base_uri": "https://localhost:8080/"
        },
        "id": "Xi1d6SFYqtjj",
        "outputId": "43ea6bc8-a524-419e-9664-43cd5c5f0bc4"
      },
      "outputs": [
        {
          "data": {
            "text/plain": [
              "Mood\n",
              "Inspiring     6540\n",
              "Hopeful       5609\n",
              "Reflective    3590\n",
              "Sad           1913\n",
              "Energetic      722\n",
              "Happy          418\n",
              "Romantic       349\n",
              "Calm           133\n",
              "Name: count, dtype: int64"
            ]
          },
          "execution_count": 37,
          "metadata": {},
          "output_type": "execute_result"
        }
      ],
      "source": [
        "music_data['Mood'].value_counts()"
      ]
    },
    {
      "cell_type": "code",
      "execution_count": 38,
      "metadata": {
        "colab": {
          "base_uri": "https://localhost:8080/"
        },
        "id": "jZAe5-bkqvTd",
        "outputId": "5d82e9e7-33f0-456d-be3e-9cf69ba804ab"
      },
      "outputs": [
        {
          "data": {
            "text/plain": [
              "Mood\n",
              "Inspiring     0.339317\n",
              "Hopeful       0.291014\n",
              "Reflective    0.186261\n",
              "Sad           0.099253\n",
              "Energetic     0.037460\n",
              "Happy         0.021687\n",
              "Romantic      0.018107\n",
              "Calm          0.006900\n",
              "Name: proportion, dtype: float64"
            ]
          },
          "execution_count": 38,
          "metadata": {},
          "output_type": "execute_result"
        }
      ],
      "source": [
        "music_data['Mood'].value_counts(normalize=True)"
      ]
    },
    {
      "cell_type": "code",
      "execution_count": 39,
      "metadata": {
        "colab": {
          "base_uri": "https://localhost:8080/",
          "height": 497
        },
        "id": "f1BjMruhqxwb",
        "outputId": "7c4713bd-db5c-4e06-abfa-805ab7cb0260"
      },
      "outputs": [
        {
          "data": {
            "image/png": "[encoded data removed]",
            "text/plain": [
              "<Figure size 500x500 with 1 Axes>"
            ]
          },
          "metadata": {},
          "output_type": "display_data"
        }
      ],
      "source": [
        "music_data['Mood'].value_counts().plot.bar();"
      ]
    },
    {
      "cell_type": "code",
      "execution_count": 40,
      "metadata": {
        "colab": {
          "base_uri": "https://localhost:8080/",
          "height": 551
        },
        "id": "Gc2l3RBvq0us",
        "outputId": "25542584-1188-48bd-a503-487283fd0d1d"
      },
      "outputs": [
        {
          "data": {
            "text/html": [
              "<div>\n",
              "<style scoped>\n",
              "    .dataframe tbody tr th:only-of-type {\n",
              "        vertical-align: middle;\n",
              "    }\n",
              "\n",
              "    .dataframe tbody tr th {\n",
              "        vertical-align: top;\n",
              "    }\n",
              "\n",
              "    .dataframe thead th {\n",
              "        text-align: right;\n",
              "    }\n",
              "</style>\n",
              "<table border=\"1\" class=\"dataframe\">\n",
              "  <thead>\n",
              "    <tr style=\"text-align: right;\">\n",
              "      <th></th>\n",
              "      <th>count</th>\n",
              "      <th>mean</th>\n",
              "      <th>std</th>\n",
              "      <th>min</th>\n",
              "      <th>25%</th>\n",
              "      <th>50%</th>\n",
              "      <th>75%</th>\n",
              "      <th>max</th>\n",
              "    </tr>\n",
              "  </thead>\n",
              "  <tbody>\n",
              "    <tr>\n",
              "      <th>popularity</th>\n",
              "      <td>19274.0</td>\n",
              "      <td>45.045761</td>\n",
              "      <td>15.911014</td>\n",
              "      <td>0.00000</td>\n",
              "      <td>33.000000</td>\n",
              "      <td>45.000000</td>\n",
              "      <td>57.000000</td>\n",
              "      <td>92.000</td>\n",
              "    </tr>\n",
              "    <tr>\n",
              "      <th>duration_ms</th>\n",
              "      <td>19274.0</td>\n",
              "      <td>239252.520338</td>\n",
              "      <td>81214.277415</td>\n",
              "      <td>14708.00000</td>\n",
              "      <td>191600.000000</td>\n",
              "      <td>229713.500000</td>\n",
              "      <td>274050.250000</td>\n",
              "      <td>2238734.000</td>\n",
              "    </tr>\n",
              "    <tr>\n",
              "      <th>explicit</th>\n",
              "      <td>19274.0</td>\n",
              "      <td>0.081820</td>\n",
              "      <td>0.274098</td>\n",
              "      <td>0.00000</td>\n",
              "      <td>0.000000</td>\n",
              "      <td>0.000000</td>\n",
              "      <td>0.000000</td>\n",
              "      <td>1.000</td>\n",
              "    </tr>\n",
              "    <tr>\n",
              "      <th>danceability</th>\n",
              "      <td>19274.0</td>\n",
              "      <td>0.532000</td>\n",
              "      <td>0.163057</td>\n",
              "      <td>0.00000</td>\n",
              "      <td>0.418000</td>\n",
              "      <td>0.535000</td>\n",
              "      <td>0.648000</td>\n",
              "      <td>0.980</td>\n",
              "    </tr>\n",
              "    <tr>\n",
              "      <th>energy</th>\n",
              "      <td>19274.0</td>\n",
              "      <td>0.630416</td>\n",
              "      <td>0.245499</td>\n",
              "      <td>0.00002</td>\n",
              "      <td>0.448000</td>\n",
              "      <td>0.665000</td>\n",
              "      <td>0.842000</td>\n",
              "      <td>0.999</td>\n",
              "    </tr>\n",
              "    <tr>\n",
              "      <th>key</th>\n",
              "      <td>19274.0</td>\n",
              "      <td>5.246809</td>\n",
              "      <td>3.547989</td>\n",
              "      <td>0.00000</td>\n",
              "      <td>2.000000</td>\n",
              "      <td>5.000000</td>\n",
              "      <td>9.000000</td>\n",
              "      <td>11.000</td>\n",
              "    </tr>\n",
              "    <tr>\n",
              "      <th>loudness</th>\n",
              "      <td>19274.0</td>\n",
              "      <td>-8.985521</td>\n",
              "      <td>4.112266</td>\n",
              "      <td>-37.48400</td>\n",
              "      <td>-11.673750</td>\n",
              "      <td>-8.329000</td>\n",
              "      <td>-5.766000</td>\n",
              "      <td>0.496</td>\n",
              "    </tr>\n",
              "    <tr>\n",
              "      <th>mode</th>\n",
              "      <td>19274.0</td>\n",
              "      <td>0.694459</td>\n",
              "      <td>0.460648</td>\n",
              "      <td>0.00000</td>\n",
              "      <td>0.000000</td>\n",
              "      <td>1.000000</td>\n",
              "      <td>1.000000</td>\n",
              "      <td>1.000</td>\n",
              "    </tr>\n",
              "    <tr>\n",
              "      <th>speechiness</th>\n",
              "      <td>19274.0</td>\n",
              "      <td>0.065386</td>\n",
              "      <td>0.068048</td>\n",
              "      <td>0.00000</td>\n",
              "      <td>0.032700</td>\n",
              "      <td>0.041700</td>\n",
              "      <td>0.065775</td>\n",
              "      <td>0.958</td>\n",
              "    </tr>\n",
              "    <tr>\n",
              "      <th>acousticness</th>\n",
              "      <td>19274.0</td>\n",
              "      <td>0.262616</td>\n",
              "      <td>0.306057</td>\n",
              "      <td>0.00000</td>\n",
              "      <td>0.009575</td>\n",
              "      <td>0.110000</td>\n",
              "      <td>0.477000</td>\n",
              "      <td>0.996</td>\n",
              "    </tr>\n",
              "    <tr>\n",
              "      <th>instrumentalness</th>\n",
              "      <td>19274.0</td>\n",
              "      <td>0.065547</td>\n",
              "      <td>0.180671</td>\n",
              "      <td>0.00000</td>\n",
              "      <td>0.000000</td>\n",
              "      <td>0.000109</td>\n",
              "      <td>0.009710</td>\n",
              "      <td>0.992</td>\n",
              "    </tr>\n",
              "    <tr>\n",
              "      <th>liveness</th>\n",
              "      <td>19274.0</td>\n",
              "      <td>0.191348</td>\n",
              "      <td>0.151751</td>\n",
              "      <td>0.00967</td>\n",
              "      <td>0.094600</td>\n",
              "      <td>0.130000</td>\n",
              "      <td>0.252000</td>\n",
              "      <td>0.993</td>\n",
              "    </tr>\n",
              "    <tr>\n",
              "      <th>valence</th>\n",
              "      <td>19274.0</td>\n",
              "      <td>0.509886</td>\n",
              "      <td>0.249563</td>\n",
              "      <td>0.00000</td>\n",
              "      <td>0.308000</td>\n",
              "      <td>0.504000</td>\n",
              "      <td>0.711000</td>\n",
              "      <td>0.990</td>\n",
              "    </tr>\n",
              "    <tr>\n",
              "      <th>tempo</th>\n",
              "      <td>19274.0</td>\n",
              "      <td>121.877750</td>\n",
              "      <td>29.341318</td>\n",
              "      <td>0.00000</td>\n",
              "      <td>99.407250</td>\n",
              "      <td>120.065500</td>\n",
              "      <td>139.928750</td>\n",
              "      <td>238.895</td>\n",
              "    </tr>\n",
              "    <tr>\n",
              "      <th>time_signature</th>\n",
              "      <td>19274.0</td>\n",
              "      <td>3.918647</td>\n",
              "      <td>0.349369</td>\n",
              "      <td>0.00000</td>\n",
              "      <td>4.000000</td>\n",
              "      <td>4.000000</td>\n",
              "      <td>4.000000</td>\n",
              "      <td>5.000</td>\n",
              "    </tr>\n",
              "  </tbody>\n",
              "</table>\n",
              "</div>"
            ],
            "text/plain": [
              "                    count           mean           std          min   \n",
              "popularity        19274.0      45.045761     15.911014      0.00000  \\\n",
              "duration_ms       19274.0  239252.520338  81214.277415  14708.00000   \n",
              "explicit          19274.0       0.081820      0.274098      0.00000   \n",
              "danceability      19274.0       0.532000      0.163057      0.00000   \n",
              "energy            19274.0       0.630416      0.245499      0.00002   \n",
              "key               19274.0       5.246809      3.547989      0.00000   \n",
              "loudness          19274.0      -8.985521      4.112266    -37.48400   \n",
              "mode              19274.0       0.694459      0.460648      0.00000   \n",
              "speechiness       19274.0       0.065386      0.068048      0.00000   \n",
              "acousticness      19274.0       0.262616      0.306057      0.00000   \n",
              "instrumentalness  19274.0       0.065547      0.180671      0.00000   \n",
              "liveness          19274.0       0.191348      0.151751      0.00967   \n",
              "valence           19274.0       0.509886      0.249563      0.00000   \n",
              "tempo             19274.0     121.877750     29.341318      0.00000   \n",
              "time_signature    19274.0       3.918647      0.349369      0.00000   \n",
              "\n",
              "                            25%            50%            75%          max  \n",
              "popularity            33.000000      45.000000      57.000000       92.000  \n",
              "duration_ms       191600.000000  229713.500000  274050.250000  2238734.000  \n",
              "explicit               0.000000       0.000000       0.000000        1.000  \n",
              "danceability           0.418000       0.535000       0.648000        0.980  \n",
              "energy                 0.448000       0.665000       0.842000        0.999  \n",
              "key                    2.000000       5.000000       9.000000       11.000  \n",
              "loudness             -11.673750      -8.329000      -5.766000        0.496  \n",
              "mode                   0.000000       1.000000       1.000000        1.000  \n",
              "speechiness            0.032700       0.041700       0.065775        0.958  \n",
              "acousticness           0.009575       0.110000       0.477000        0.996  \n",
              "instrumentalness       0.000000       0.000109       0.009710        0.992  \n",
              "liveness               0.094600       0.130000       0.252000        0.993  \n",
              "valence                0.308000       0.504000       0.711000        0.990  \n",
              "tempo                 99.407250     120.065500     139.928750      238.895  \n",
              "time_signature         4.000000       4.000000       4.000000        5.000  "
            ]
          },
          "execution_count": 40,
          "metadata": {},
          "output_type": "execute_result"
        }
      ],
      "source": [
        "music_data.describe().T"
      ]
    },
    {
      "cell_type": "code",
      "execution_count": 41,
      "metadata": {
        "id": "InG8lbxZq7sV"
      },
      "outputs": [],
      "source": [
        "from sklearn.model_selection import train_test_split\n",
        "\n",
        "SEED = 42\n",
        "\n",
        "X_train, X_test, y_train, y_test = train_test_split(X, y, test_size = 0.20, random_state = SEED)"
      ]
    },
    {
      "cell_type": "code",
      "execution_count": 42,
      "metadata": {
        "colab": {
          "base_uri": "https://localhost:8080/"
        },
        "id": "mCMcke5IrCB9",
        "outputId": "83cf19b5-bf78-444d-8c2b-3c5fac61522e"
      },
      "outputs": [
        {
          "name": "stdout",
          "output_type": "stream",
          "text": [
            "There are 15419 samples for training and 3855 samples for testing.\n"
          ]
        }
      ],
      "source": [
        "xtrain_samples = X_train.shape[0]\n",
        "xtest_samples = X_test.shape[0]\n",
        "\n",
        "print(f'There are {xtrain_samples} samples for training and {xtest_samples} samples for testing.')"
      ]
    },
    {
      "cell_type": "code",
      "execution_count": 43,
      "metadata": {
        "id": "UtlUxGs3rEOM"
      },
      "outputs": [],
      "source": [
        "from sklearn.svm import SVC\n",
        "svc = SVC(kernel='linear')"
      ]
    },
    {
      "cell_type": "code",
      "execution_count": 46,
      "metadata": {},
      "outputs": [
        {
          "data": {
            "text/plain": [
              "3366    NaN\n",
              "2807    NaN\n",
              "6095    NaN\n",
              "7757    NaN\n",
              "13529   NaN\n",
              "         ..\n",
              "11284   NaN\n",
              "11964   NaN\n",
              "5390    NaN\n",
              "860     NaN\n",
              "15795   NaN\n",
              "Name: Mood, Length: 15419, dtype: float64"
            ]
          },
          "execution_count": 46,
          "metadata": {},
          "output_type": "execute_result"
        }
      ],
      "source": [
        "y_train"
      ]
    },
    {
      "cell_type": "code",
      "execution_count": 44,
      "metadata": {
        "colab": {
          "base_uri": "https://localhost:8080/",
          "height": 74
        },
        "id": "oLEvvLxLrSxs",
        "outputId": "247126b5-626b-4e55-8b08-05cdfd500ccf"
      },
      "outputs": [
        {
          "ename": "ValueError",
          "evalue": "Input y contains NaN.",
          "output_type": "error",
          "traceback": [
            "\u001b[1;31m---------------------------------------------------------------------------\u001b[0m",
            "\u001b[1;31mValueError\u001b[0m                                Traceback (most recent call last)",
            "Cell \u001b[1;32mIn[44], line 1\u001b[0m\n\u001b[1;32m----> 1\u001b[0m svc\u001b[39m.\u001b[39;49mfit(X_train, y_train)\n",
            "File \u001b[1;32mc:\\Users\\Vlad_\\AppData\\Local\\Programs\\Python\\Python38\\lib\\site-packages\\sklearn\\svm\\_base.py:192\u001b[0m, in \u001b[0;36mBaseLibSVM.fit\u001b[1;34m(self, X, y, sample_weight)\u001b[0m\n\u001b[0;32m    190\u001b[0m     check_consistent_length(X, y)\n\u001b[0;32m    191\u001b[0m \u001b[39melse\u001b[39;00m:\n\u001b[1;32m--> 192\u001b[0m     X, y \u001b[39m=\u001b[39m \u001b[39mself\u001b[39;49m\u001b[39m.\u001b[39;49m_validate_data(\n\u001b[0;32m    193\u001b[0m         X,\n\u001b[0;32m    194\u001b[0m         y,\n\u001b[0;32m    195\u001b[0m         dtype\u001b[39m=\u001b[39;49mnp\u001b[39m.\u001b[39;49mfloat64,\n\u001b[0;32m    196\u001b[0m         order\u001b[39m=\u001b[39;49m\u001b[39m\"\u001b[39;49m\u001b[39mC\u001b[39;49m\u001b[39m\"\u001b[39;49m,\n\u001b[0;32m    197\u001b[0m         accept_sparse\u001b[39m=\u001b[39;49m\u001b[39m\"\u001b[39;49m\u001b[39mcsr\u001b[39;49m\u001b[39m\"\u001b[39;49m,\n\u001b[0;32m    198\u001b[0m         accept_large_sparse\u001b[39m=\u001b[39;49m\u001b[39mFalse\u001b[39;49;00m,\n\u001b[0;32m    199\u001b[0m     )\n\u001b[0;32m    201\u001b[0m y \u001b[39m=\u001b[39m \u001b[39mself\u001b[39m\u001b[39m.\u001b[39m_validate_targets(y)\n\u001b[0;32m    203\u001b[0m sample_weight \u001b[39m=\u001b[39m np\u001b[39m.\u001b[39masarray(\n\u001b[0;32m    204\u001b[0m     [] \u001b[39mif\u001b[39;00m sample_weight \u001b[39mis\u001b[39;00m \u001b[39mNone\u001b[39;00m \u001b[39melse\u001b[39;00m sample_weight, dtype\u001b[39m=\u001b[39mnp\u001b[39m.\u001b[39mfloat64\n\u001b[0;32m    205\u001b[0m )\n",
            "File \u001b[1;32mc:\\Users\\Vlad_\\AppData\\Local\\Programs\\Python\\Python38\\lib\\site-packages\\sklearn\\base.py:584\u001b[0m, in \u001b[0;36mBaseEstimator._validate_data\u001b[1;34m(self, X, y, reset, validate_separately, **check_params)\u001b[0m\n\u001b[0;32m    582\u001b[0m         y \u001b[39m=\u001b[39m check_array(y, input_name\u001b[39m=\u001b[39m\u001b[39m\"\u001b[39m\u001b[39my\u001b[39m\u001b[39m\"\u001b[39m, \u001b[39m*\u001b[39m\u001b[39m*\u001b[39mcheck_y_params)\n\u001b[0;32m    583\u001b[0m     \u001b[39melse\u001b[39;00m:\n\u001b[1;32m--> 584\u001b[0m         X, y \u001b[39m=\u001b[39m check_X_y(X, y, \u001b[39m*\u001b[39;49m\u001b[39m*\u001b[39;49mcheck_params)\n\u001b[0;32m    585\u001b[0m     out \u001b[39m=\u001b[39m X, y\n\u001b[0;32m    587\u001b[0m \u001b[39mif\u001b[39;00m \u001b[39mnot\u001b[39;00m no_val_X \u001b[39mand\u001b[39;00m check_params\u001b[39m.\u001b[39mget(\u001b[39m\"\u001b[39m\u001b[39mensure_2d\u001b[39m\u001b[39m\"\u001b[39m, \u001b[39mTrue\u001b[39;00m):\n",
            "File \u001b[1;32mc:\\Users\\Vlad_\\AppData\\Local\\Programs\\Python\\Python38\\lib\\site-packages\\sklearn\\utils\\validation.py:1122\u001b[0m, in \u001b[0;36mcheck_X_y\u001b[1;34m(X, y, accept_sparse, accept_large_sparse, dtype, order, copy, force_all_finite, ensure_2d, allow_nd, multi_output, ensure_min_samples, ensure_min_features, y_numeric, estimator)\u001b[0m\n\u001b[0;32m   1102\u001b[0m     \u001b[39mraise\u001b[39;00m \u001b[39mValueError\u001b[39;00m(\n\u001b[0;32m   1103\u001b[0m         \u001b[39mf\u001b[39m\u001b[39m\"\u001b[39m\u001b[39m{\u001b[39;00mestimator_name\u001b[39m}\u001b[39;00m\u001b[39m requires y to be passed, but the target y is None\u001b[39m\u001b[39m\"\u001b[39m\n\u001b[0;32m   1104\u001b[0m     )\n\u001b[0;32m   1106\u001b[0m X \u001b[39m=\u001b[39m check_array(\n\u001b[0;32m   1107\u001b[0m     X,\n\u001b[0;32m   1108\u001b[0m     accept_sparse\u001b[39m=\u001b[39maccept_sparse,\n\u001b[1;32m   (...)\u001b[0m\n\u001b[0;32m   1119\u001b[0m     input_name\u001b[39m=\u001b[39m\u001b[39m\"\u001b[39m\u001b[39mX\u001b[39m\u001b[39m\"\u001b[39m,\n\u001b[0;32m   1120\u001b[0m )\n\u001b[1;32m-> 1122\u001b[0m y \u001b[39m=\u001b[39m _check_y(y, multi_output\u001b[39m=\u001b[39;49mmulti_output, y_numeric\u001b[39m=\u001b[39;49my_numeric, estimator\u001b[39m=\u001b[39;49mestimator)\n\u001b[0;32m   1124\u001b[0m check_consistent_length(X, y)\n\u001b[0;32m   1126\u001b[0m \u001b[39mreturn\u001b[39;00m X, y\n",
            "File \u001b[1;32mc:\\Users\\Vlad_\\AppData\\Local\\Programs\\Python\\Python38\\lib\\site-packages\\sklearn\\utils\\validation.py:1144\u001b[0m, in \u001b[0;36m_check_y\u001b[1;34m(y, multi_output, y_numeric, estimator)\u001b[0m\n\u001b[0;32m   1142\u001b[0m     estimator_name \u001b[39m=\u001b[39m _check_estimator_name(estimator)\n\u001b[0;32m   1143\u001b[0m     y \u001b[39m=\u001b[39m column_or_1d(y, warn\u001b[39m=\u001b[39m\u001b[39mTrue\u001b[39;00m)\n\u001b[1;32m-> 1144\u001b[0m     _assert_all_finite(y, input_name\u001b[39m=\u001b[39;49m\u001b[39m\"\u001b[39;49m\u001b[39my\u001b[39;49m\u001b[39m\"\u001b[39;49m, estimator_name\u001b[39m=\u001b[39;49mestimator_name)\n\u001b[0;32m   1145\u001b[0m     _ensure_no_complex_data(y)\n\u001b[0;32m   1146\u001b[0m \u001b[39mif\u001b[39;00m y_numeric \u001b[39mand\u001b[39;00m y\u001b[39m.\u001b[39mdtype\u001b[39m.\u001b[39mkind \u001b[39m==\u001b[39m \u001b[39m\"\u001b[39m\u001b[39mO\u001b[39m\u001b[39m\"\u001b[39m:\n",
            "File \u001b[1;32mc:\\Users\\Vlad_\\AppData\\Local\\Programs\\Python\\Python38\\lib\\site-packages\\sklearn\\utils\\validation.py:161\u001b[0m, in \u001b[0;36m_assert_all_finite\u001b[1;34m(X, allow_nan, msg_dtype, estimator_name, input_name)\u001b[0m\n\u001b[0;32m    144\u001b[0m \u001b[39mif\u001b[39;00m estimator_name \u001b[39mand\u001b[39;00m input_name \u001b[39m==\u001b[39m \u001b[39m\"\u001b[39m\u001b[39mX\u001b[39m\u001b[39m\"\u001b[39m \u001b[39mand\u001b[39;00m has_nan_error:\n\u001b[0;32m    145\u001b[0m     \u001b[39m# Improve the error message on how to handle missing values in\u001b[39;00m\n\u001b[0;32m    146\u001b[0m     \u001b[39m# scikit-learn.\u001b[39;00m\n\u001b[0;32m    147\u001b[0m     msg_err \u001b[39m+\u001b[39m\u001b[39m=\u001b[39m (\n\u001b[0;32m    148\u001b[0m         \u001b[39mf\u001b[39m\u001b[39m\"\u001b[39m\u001b[39m\\n\u001b[39;00m\u001b[39m{\u001b[39;00mestimator_name\u001b[39m}\u001b[39;00m\u001b[39m does not accept missing values\u001b[39m\u001b[39m\"\u001b[39m\n\u001b[0;32m    149\u001b[0m         \u001b[39m\"\u001b[39m\u001b[39m encoded as NaN natively. For supervised learning, you might want\u001b[39m\u001b[39m\"\u001b[39m\n\u001b[1;32m   (...)\u001b[0m\n\u001b[0;32m    159\u001b[0m         \u001b[39m\"\u001b[39m\u001b[39m#estimators-that-handle-nan-values\u001b[39m\u001b[39m\"\u001b[39m\n\u001b[0;32m    160\u001b[0m     )\n\u001b[1;32m--> 161\u001b[0m \u001b[39mraise\u001b[39;00m \u001b[39mValueError\u001b[39;00m(msg_err)\n",
            "\u001b[1;31mValueError\u001b[0m: Input y contains NaN."
          ]
        }
      ],
      "source": [
        "svc.fit(X_train, y_train)"
      ]
    },
    {
      "cell_type": "code",
      "execution_count": null,
      "metadata": {
        "id": "6DaJL1masoUc"
      },
      "outputs": [],
      "source": [
        "y_pred = svc.predict(X_test)"
      ]
    },
    {
      "cell_type": "code",
      "execution_count": null,
      "metadata": {
        "colab": {
          "base_uri": "https://localhost:8080/",
          "height": 815
        },
        "id": "0au7rLD-s16L",
        "outputId": "e1b024dd-3bfb-458d-cb96-fb099ce677e9"
      },
      "outputs": [
        {
          "name": "stderr",
          "output_type": "stream",
          "text": [
            "/usr/local/lib/python3.10/dist-packages/sklearn/metrics/_classification.py:1344: UndefinedMetricWarning: Precision and F-score are ill-defined and being set to 0.0 in labels with no predicted samples. Use `zero_division` parameter to control this behavior.\n",
            "  _warn_prf(average, modifier, msg_start, len(result))\n",
            "/usr/local/lib/python3.10/dist-packages/sklearn/metrics/_classification.py:1344: UndefinedMetricWarning: Precision and F-score are ill-defined and being set to 0.0 in labels with no predicted samples. Use `zero_division` parameter to control this behavior.\n",
            "  _warn_prf(average, modifier, msg_start, len(result))\n",
            "/usr/local/lib/python3.10/dist-packages/sklearn/metrics/_classification.py:1344: UndefinedMetricWarning: Precision and F-score are ill-defined and being set to 0.0 in labels with no predicted samples. Use `zero_division` parameter to control this behavior.\n",
            "  _warn_prf(average, modifier, msg_start, len(result))\n"
          ]
        },
        {
          "name": "stdout",
          "output_type": "stream",
          "text": [
            "              precision    recall  f1-score   support\n",
            "\n",
            "           0       0.50      0.00      0.00       855\n",
            "           1       0.00      0.00      0.00       133\n",
            "           2       0.68      1.00      0.81      2607\n",
            "           3       0.00      0.00      0.00       115\n",
            "           4       0.00      0.00      0.00       145\n",
            "\n",
            "    accuracy                           0.68      3855\n",
            "   macro avg       0.24      0.20      0.16      3855\n",
            "weighted avg       0.57      0.68      0.55      3855\n",
            "\n"
          ]
        },
        {
          "data": {
            "image/png": "[encoded data removed]",
            "text/plain": [
              "<Figure size 700x500 with 2 Axes>"
            ]
          },
          "metadata": {},
          "output_type": "display_data"
        }
      ],
      "source": [
        "from sklearn.metrics import classification_report, confusion_matrix\n",
        "\n",
        "cm = confusion_matrix(y_test,y_pred)\n",
        "sns.heatmap(cm, annot=True, fmt='d').set_title('Confusion matrix of linear SVM') # fmt='d' formats the numbers as digits, which means integers\n",
        "\n",
        "print(classification_report(y_test,y_pred))"
      ]
    },
    {
      "cell_type": "markdown",
      "metadata": {
        "id": "qkymrMbNtlTj"
      },
      "source": [
        "\n",
        "\n",
        "---\n",
        "\n",
        "\n",
        "\n",
        "---\n",
        "\n"
      ]
    },
    {
      "cell_type": "code",
      "execution_count": null,
      "metadata": {
        "id": "eckorENjtkqN"
      },
      "outputs": [],
      "source": []
    }
  ],
  "metadata": {
    "colab": {
      "provenance": []
    },
    "kernelspec": {
      "display_name": "Python 3",
      "name": "python3"
    },
    "language_info": {
      "codemirror_mode": {
        "name": "ipython",
        "version": 3
      },
      "file_extension": ".py",
      "mimetype": "text/x-python",
      "name": "python",
      "nbconvert_exporter": "python",
      "pygments_lexer": "ipython3",
      "version": "3.8.2"
    }
  },
  "nbformat": 4,
  "nbformat_minor": 0
}
