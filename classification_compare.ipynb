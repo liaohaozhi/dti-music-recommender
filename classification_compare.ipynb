{
  "cells": [
    {
      "cell_type": "code",
      "execution_count": 1,
      "metadata": {
        "colab": {
          "base_uri": "https://localhost:8080/"
        },
        "id": "ij45_Za46PQq",
        "outputId": "34fdcc3d-c7c9-4e20-f6b9-f99b5f4e6262"
      },
      "outputs": [
        {
          "output_type": "stream",
          "name": "stderr",
          "text": [
            "<ipython-input-1-c53dd587ccc8>:3: DeprecationWarning: \n",
            "  Function usage() has been deprecated.  Use help(obj) instead.\n",
            "  nltk.usage(nltk.classify.ClassifierI)\n"
          ]
        },
        {
          "output_type": "stream",
          "name": "stdout",
          "text": [
            "ClassifierI supports the following operations:\n",
            "  - self.classify(featureset)\n",
            "  - self.classify_many(featuresets)\n",
            "  - self.labels()\n",
            "  - self.prob_classify(featureset)\n",
            "  - self.prob_classify_many(featuresets)\n"
          ]
        }
      ],
      "source": [
        "import pandas as pd\n",
        "import nltk\n",
        "nltk.usage(nltk.classify.ClassifierI)\n",
        "import nltk\n",
        "import pandas as pd\n",
        "import re\n",
        "import random\n",
        "import matplotlib.pyplot as plt\n",
        "import numpy as np\n",
        "from nltk.corpus import stopwords\n",
        "#transform\n",
        "from sklearn.feature_extraction.text import CountVectorizer\n",
        "from sklearn.feature_extraction.text import TfidfTransformer\n",
        "#classifiers\n",
        "from nltk.classify import SklearnClassifier\n",
        "from sklearn.svm import SVC\n",
        "from sklearn.naive_bayes import BernoulliNB\n",
        "from sklearn.naive_bayes import MultinomialNB\n",
        "from sklearn.linear_model import SGDClassifier\n",
        "from sklearn.ensemble import RandomForestClassifier\n",
        "from sklearn.ensemble import GradientBoostingClassifier\n",
        "from sklearn.neighbors import KNeighborsClassifier\n",
        "from sklearn.model_selection import train_test_split\n",
        "from sklearn.metrics import accuracy_score\n",
        "from sklearn.metrics import confusion_matrix\n",
        "\n",
        "#utilities\n",
        "from sklearn.pipeline import Pipeline\n",
        "from sklearn import metrics\n",
        "from sklearn.model_selection import GridSearchCV\n",
        "\n",
        "#graphing\n",
        "import seaborn as sns"
      ]
    },
    {
      "cell_type": "code",
      "execution_count": 2,
      "metadata": {
        "id": "ECZp64Yz6Y76"
      },
      "outputs": [],
      "source": [
        "def assign_mood(row):\n",
        "    if row['energy'] >= 0.8 and row['valence'] >= 0.04 and row['danceability'] >= 0.4:\n",
        "        return 'energetic'\n",
        "    elif row['energy'] < 0.2240 and row['valence'] < 0.393 and row['danceability'] < 0.507:\n",
        "        return 'sad'\n",
        "    elif row['energy'] >= 0.7 and row['valence'] >= 0.7 and row['danceability'] >= 0.6:\n",
        "        return 'happy'\n",
        "    elif row['energy'] <= 0.320 and row['valence'] >= 0.3 and row['danceability'] >= 0.572:\n",
        "        return 'romantic'\n",
        "    elif row['energy'] >= 0.000282 and row['valence'] >= 0.01 and row['danceability'] >= 0.0499:\n",
        "        return 'inspiring'\n",
        "    elif row['energy'] > 0.2 and row['valence'] >= 0.6 and row['danceability'] >= 0.5:\n",
        "        return 'hopeful'\n",
        "    elif row['energy'] > 0.324 and row['valence'] >= 0.03 and row['danceability'] >= 0.2:\n",
        "        return 'calm'\n",
        "    elif row['energy'] < 0.324 and row['valence'] <= 0.239 and row['danceability'] <= 0.658:\n",
        "        return 'reflective'\n",
        "    elif row['energy'] >= 0.858 and row['valence'] < 0.682 and row['danceability'] < 0.737:\n",
        "        return 'upbeat'\n",
        "\n",
        "    # Add more conditions for other mood types"
      ]
    },
    {
      "cell_type": "code",
      "execution_count": 68,
      "metadata": {
        "id": "g-t0rpQh6d9W"
      },
      "outputs": [],
      "source": [
        "df_m = pd.read_csv('/content/df_comb_with_mood.csv')"
      ]
    },
    {
      "cell_type": "code",
      "execution_count": 89,
      "metadata": {
        "colab": {
          "base_uri": "https://localhost:8080/",
          "height": 330
        },
        "id": "B2kL28_D6pWD",
        "outputId": "0a01cb00-da3f-4a23-ac7d-54563d4c1658"
      },
      "outputs": [
        {
          "output_type": "execute_result",
          "data": {
            "text/plain": [
              "                       id name  popularity  duration_ms  explicit  artists  \\\n",
              "0  1XXimziG1uhM0eDNCZCrUl   Up          92       156945         1  cardi b   \n",
              "\n",
              "                   id_artists release_date  danceability  energy  ...  \\\n",
              "0  ['4kYSro6naA4h99UJvo89HB']   2021-02-05         0.868   0.795  ...   \n",
              "\n",
              "   liveness  valence  tempo  time_signature             SLink  \\\n",
              "0    0.0461    0.819  166.0               4  /cardi-b/up.html   \n",
              "\n",
              "                                               Lyric  language  \\\n",
              "0  Up, up, up (Ayy) , up (Uh) , up, look (This is...        en   \n",
              "\n",
              "               Genres                                        clean lyric  \\\n",
              "0  ['Hip Hop', 'Rap']  ayy uh look fire upon time man heard ugly came...   \n",
              "\n",
              "    Mood  \n",
              "0  happy  \n",
              "\n",
              "[1 rows x 26 columns]"
            ],
            "text/html": [
              "\n",
              "\n",
              "  <div id=\"df-7f590a54-92a8-4eb7-9fb8-3242384301f9\">\n",
              "    <div class=\"colab-df-container\">\n",
              "      <div>\n",
              "<style scoped>\n",
              "    .dataframe tbody tr th:only-of-type {\n",
              "        vertical-align: middle;\n",
              "    }\n",
              "\n",
              "    .dataframe tbody tr th {\n",
              "        vertical-align: top;\n",
              "    }\n",
              "\n",
              "    .dataframe thead th {\n",
              "        text-align: right;\n",
              "    }\n",
              "</style>\n",
              "<table border=\"1\" class=\"dataframe\">\n",
              "  <thead>\n",
              "    <tr style=\"text-align: right;\">\n",
              "      <th></th>\n",
              "      <th>id</th>\n",
              "      <th>name</th>\n",
              "      <th>popularity</th>\n",
              "      <th>duration_ms</th>\n",
              "      <th>explicit</th>\n",
              "      <th>artists</th>\n",
              "      <th>id_artists</th>\n",
              "      <th>release_date</th>\n",
              "      <th>danceability</th>\n",
              "      <th>energy</th>\n",
              "      <th>...</th>\n",
              "      <th>liveness</th>\n",
              "      <th>valence</th>\n",
              "      <th>tempo</th>\n",
              "      <th>time_signature</th>\n",
              "      <th>SLink</th>\n",
              "      <th>Lyric</th>\n",
              "      <th>language</th>\n",
              "      <th>Genres</th>\n",
              "      <th>clean lyric</th>\n",
              "      <th>Mood</th>\n",
              "    </tr>\n",
              "  </thead>\n",
              "  <tbody>\n",
              "    <tr>\n",
              "      <th>0</th>\n",
              "      <td>1XXimziG1uhM0eDNCZCrUl</td>\n",
              "      <td>Up</td>\n",
              "      <td>92</td>\n",
              "      <td>156945</td>\n",
              "      <td>1</td>\n",
              "      <td>cardi b</td>\n",
              "      <td>['4kYSro6naA4h99UJvo89HB']</td>\n",
              "      <td>2021-02-05</td>\n",
              "      <td>0.868</td>\n",
              "      <td>0.795</td>\n",
              "      <td>...</td>\n",
              "      <td>0.0461</td>\n",
              "      <td>0.819</td>\n",
              "      <td>166.0</td>\n",
              "      <td>4</td>\n",
              "      <td>/cardi-b/up.html</td>\n",
              "      <td>Up, up, up (Ayy) , up (Uh) , up, look (This is...</td>\n",
              "      <td>en</td>\n",
              "      <td>['Hip Hop', 'Rap']</td>\n",
              "      <td>ayy uh look fire upon time man heard ugly came...</td>\n",
              "      <td>happy</td>\n",
              "    </tr>\n",
              "  </tbody>\n",
              "</table>\n",
              "<p>1 rows × 26 columns</p>\n",
              "</div>\n",
              "      <button class=\"colab-df-convert\" onclick=\"convertToInteractive('df-7f590a54-92a8-4eb7-9fb8-3242384301f9')\"\n",
              "              title=\"Convert this dataframe to an interactive table.\"\n",
              "              style=\"display:none;\">\n",
              "\n",
              "  <svg xmlns=\"http://www.w3.org/2000/svg\" height=\"24px\"viewBox=\"0 0 24 24\"\n",
              "       width=\"24px\">\n",
              "    <path d=\"M0 0h24v24H0V0z\" fill=\"none\"/>\n",
              "    <path d=\"M18.56 5.44l.94 2.06.94-2.06 2.06-.94-2.06-.94-.94-2.06-.94 2.06-2.06.94zm-11 1L8.5 8.5l.94-2.06 2.06-.94-2.06-.94L8.5 2.5l-.94 2.06-2.06.94zm10 10l.94 2.06.94-2.06 2.06-.94-2.06-.94-.94-2.06-.94 2.06-2.06.94z\"/><path d=\"M17.41 7.96l-1.37-1.37c-.4-.4-.92-.59-1.43-.59-.52 0-1.04.2-1.43.59L10.3 9.45l-7.72 7.72c-.78.78-.78 2.05 0 2.83L4 21.41c.39.39.9.59 1.41.59.51 0 1.02-.2 1.41-.59l7.78-7.78 2.81-2.81c.8-.78.8-2.07 0-2.86zM5.41 20L4 18.59l7.72-7.72 1.47 1.35L5.41 20z\"/>\n",
              "  </svg>\n",
              "      </button>\n",
              "\n",
              "\n",
              "\n",
              "    <div id=\"df-f17b1e1b-d569-47c4-9252-be2720633e63\">\n",
              "      <button class=\"colab-df-quickchart\" onclick=\"quickchart('df-f17b1e1b-d569-47c4-9252-be2720633e63')\"\n",
              "              title=\"Suggest charts.\"\n",
              "              style=\"display:none;\">\n",
              "\n",
              "<svg xmlns=\"http://www.w3.org/2000/svg\" height=\"24px\"viewBox=\"0 0 24 24\"\n",
              "     width=\"24px\">\n",
              "    <g>\n",
              "        <path d=\"M19 3H5c-1.1 0-2 .9-2 2v14c0 1.1.9 2 2 2h14c1.1 0 2-.9 2-2V5c0-1.1-.9-2-2-2zM9 17H7v-7h2v7zm4 0h-2V7h2v10zm4 0h-2v-4h2v4z\"/>\n",
              "    </g>\n",
              "</svg>\n",
              "      </button>\n",
              "    </div>\n",
              "\n",
              "<style>\n",
              "  .colab-df-quickchart {\n",
              "    background-color: #E8F0FE;\n",
              "    border: none;\n",
              "    border-radius: 50%;\n",
              "    cursor: pointer;\n",
              "    display: none;\n",
              "    fill: #1967D2;\n",
              "    height: 32px;\n",
              "    padding: 0 0 0 0;\n",
              "    width: 32px;\n",
              "  }\n",
              "\n",
              "  .colab-df-quickchart:hover {\n",
              "    background-color: #E2EBFA;\n",
              "    box-shadow: 0px 1px 2px rgba(60, 64, 67, 0.3), 0px 1px 3px 1px rgba(60, 64, 67, 0.15);\n",
              "    fill: #174EA6;\n",
              "  }\n",
              "\n",
              "  [theme=dark] .colab-df-quickchart {\n",
              "    background-color: #3B4455;\n",
              "    fill: #D2E3FC;\n",
              "  }\n",
              "\n",
              "  [theme=dark] .colab-df-quickchart:hover {\n",
              "    background-color: #434B5C;\n",
              "    box-shadow: 0px 1px 3px 1px rgba(0, 0, 0, 0.15);\n",
              "    filter: drop-shadow(0px 1px 2px rgba(0, 0, 0, 0.3));\n",
              "    fill: #FFFFFF;\n",
              "  }\n",
              "</style>\n",
              "\n",
              "    <script>\n",
              "      async function quickchart(key) {\n",
              "        const containerElement = document.querySelector('#' + key);\n",
              "        const charts = await google.colab.kernel.invokeFunction(\n",
              "            'suggestCharts', [key], {});\n",
              "      }\n",
              "    </script>\n",
              "\n",
              "      <script>\n",
              "\n",
              "function displayQuickchartButton(domScope) {\n",
              "  let quickchartButtonEl =\n",
              "    domScope.querySelector('#df-f17b1e1b-d569-47c4-9252-be2720633e63 button.colab-df-quickchart');\n",
              "  quickchartButtonEl.style.display =\n",
              "    google.colab.kernel.accessAllowed ? 'block' : 'none';\n",
              "}\n",
              "\n",
              "        displayQuickchartButton(document);\n",
              "      </script>\n",
              "      <style>\n",
              "    .colab-df-container {\n",
              "      display:flex;\n",
              "      flex-wrap:wrap;\n",
              "      gap: 12px;\n",
              "    }\n",
              "\n",
              "    .colab-df-convert {\n",
              "      background-color: #E8F0FE;\n",
              "      border: none;\n",
              "      border-radius: 50%;\n",
              "      cursor: pointer;\n",
              "      display: none;\n",
              "      fill: #1967D2;\n",
              "      height: 32px;\n",
              "      padding: 0 0 0 0;\n",
              "      width: 32px;\n",
              "    }\n",
              "\n",
              "    .colab-df-convert:hover {\n",
              "      background-color: #E2EBFA;\n",
              "      box-shadow: 0px 1px 2px rgba(60, 64, 67, 0.3), 0px 1px 3px 1px rgba(60, 64, 67, 0.15);\n",
              "      fill: #174EA6;\n",
              "    }\n",
              "\n",
              "    [theme=dark] .colab-df-convert {\n",
              "      background-color: #3B4455;\n",
              "      fill: #D2E3FC;\n",
              "    }\n",
              "\n",
              "    [theme=dark] .colab-df-convert:hover {\n",
              "      background-color: #434B5C;\n",
              "      box-shadow: 0px 1px 3px 1px rgba(0, 0, 0, 0.15);\n",
              "      filter: drop-shadow(0px 1px 2px rgba(0, 0, 0, 0.3));\n",
              "      fill: #FFFFFF;\n",
              "    }\n",
              "  </style>\n",
              "\n",
              "      <script>\n",
              "        const buttonEl =\n",
              "          document.querySelector('#df-7f590a54-92a8-4eb7-9fb8-3242384301f9 button.colab-df-convert');\n",
              "        buttonEl.style.display =\n",
              "          google.colab.kernel.accessAllowed ? 'block' : 'none';\n",
              "\n",
              "        async function convertToInteractive(key) {\n",
              "          const element = document.querySelector('#df-7f590a54-92a8-4eb7-9fb8-3242384301f9');\n",
              "          const dataTable =\n",
              "            await google.colab.kernel.invokeFunction('convertToInteractive',\n",
              "                                                     [key], {});\n",
              "          if (!dataTable) return;\n",
              "\n",
              "          const docLinkHtml = 'Like what you see? Visit the ' +\n",
              "            '<a target=\"_blank\" href=https://colab.research.google.com/notebooks/data_table.ipynb>data table notebook</a>'\n",
              "            + ' to learn more about interactive tables.';\n",
              "          element.innerHTML = '';\n",
              "          dataTable['output_type'] = 'display_data';\n",
              "          await google.colab.output.renderOutput(dataTable, element);\n",
              "          const docLink = document.createElement('div');\n",
              "          docLink.innerHTML = docLinkHtml;\n",
              "          element.appendChild(docLink);\n",
              "        }\n",
              "      </script>\n",
              "    </div>\n",
              "  </div>\n"
            ]
          },
          "metadata": {},
          "execution_count": 89
        }
      ],
      "source": [
        "df_m.head(1)"
      ]
    },
    {
      "cell_type": "code",
      "execution_count": 81,
      "metadata": {
        "id": "j6SSBVS16xec"
      },
      "outputs": [],
      "source": [
        "#df_m  ['Mood'] = df_m .apply(assign_mood, axis=1)"
      ]
    },
    {
      "cell_type": "code",
      "execution_count": 76,
      "metadata": {
        "id": "AFFNKlM461LI"
      },
      "outputs": [],
      "source": [
        "#df_m.head(1)\n",
        "\n"
      ]
    },
    {
      "cell_type": "code",
      "execution_count": 77,
      "metadata": {
        "colab": {
          "base_uri": "https://localhost:8080/"
        },
        "id": "hqo4OqA77OjH",
        "outputId": "42fbf32b-1b71-48b0-b4a2-12ed1782c233"
      },
      "outputs": [
        {
          "output_type": "execute_result",
          "data": {
            "text/plain": [
              "id                  0\n",
              "name                0\n",
              "popularity          0\n",
              "duration_ms         0\n",
              "explicit            0\n",
              "artists             0\n",
              "id_artists          0\n",
              "release_date        0\n",
              "danceability        0\n",
              "energy              0\n",
              "key                 0\n",
              "loudness            0\n",
              "mode                0\n",
              "speechiness         0\n",
              "acousticness        0\n",
              "instrumentalness    0\n",
              "liveness            0\n",
              "valence             0\n",
              "tempo               0\n",
              "time_signature      0\n",
              "SLink               0\n",
              "Lyric               0\n",
              "language            0\n",
              "Genres              0\n",
              "clean lyric         0\n",
              "Mood                0\n",
              "dtype: int64"
            ]
          },
          "metadata": {},
          "execution_count": 77
        }
      ],
      "source": [
        "df_m.isnull().sum()"
      ]
    },
    {
      "cell_type": "code",
      "execution_count": 82,
      "metadata": {
        "colab": {
          "base_uri": "https://localhost:8080/",
          "height": 465
        },
        "id": "Rf0eDh3H7VMd",
        "outputId": "8ff25a59-125a-49cd-f731-0fa7032aeb1a"
      },
      "outputs": [
        {
          "output_type": "display_data",
          "data": {
            "text/plain": [
              "<Figure size 500x500 with 1 Axes>"
            ],
            "image/png": "[encoded data removed]"
          },
          "metadata": {}
        }
      ],
      "source": [
        "import pandas as pd\n",
        "import seaborn as sns\n",
        "\n",
        "# Assuming you have a DataFrame called 'df' and a column named 'mood' containing mood labels\n",
        "# Convert the 'mood' column to categorical data type\n",
        "df_m['Mood'] = pd.Categorical(df_m['Mood'])\n",
        "\n",
        "# Plot the count of each mood category\n",
        "sns.countplot(data=df_m, x='Mood')\n",
        "\n",
        "# Display the plot\n",
        "plt.show()"
      ]
    },
    {
      "cell_type": "code",
      "execution_count": 83,
      "metadata": {
        "id": "20iLnpQU8CtC"
      },
      "outputs": [],
      "source": [
        "import pandas as pd\n",
        "from sklearn.preprocessing import StandardScaler\n",
        "from sklearn.neural_network import MLPClassifier\n",
        "from sklearn.metrics import accuracy_score\n",
        "from sklearn.model_selection import cross_val_score, cross_val_predict\n",
        "from sklearn.model_selection import train_test_split\n",
        "from sklearn.model_selection import GridSearchCV\n",
        "import numpy as np"
      ]
    },
    {
      "cell_type": "code",
      "execution_count": 86,
      "metadata": {
        "colab": {
          "base_uri": "https://localhost:8080/"
        },
        "id": "Ra7vmBW47n8F",
        "outputId": "262b3de6-8c4f-4e78-a913-a5160ad172f0"
      },
      "outputs": [
        {
          "output_type": "stream",
          "name": "stdout",
          "text": [
            "cv score: 0.9283672394099176\n"
          ]
        }
      ],
      "source": [
        "features_for_mood = ['energy', 'danceability', 'valence']\n",
        "\n",
        "\n",
        "hyper_opt = False\n",
        "\n",
        "#split into trainval and test\n",
        "trainx, testx, trainy, testy = train_test_split(df_m[features_for_mood], df_m['Mood'], test_size = 0.33,\n",
        "                                                random_state = 42, stratify=df_m['Mood'])\n",
        "\n",
        "scaler = StandardScaler()\n",
        "train_scaled = scaler.fit_transform(trainx)\n",
        "\n",
        "nn = MLPClassifier(max_iter = 15000, alpha=1.0, hidden_layer_sizes=8)\n",
        "scores = cross_val_score(nn, train_scaled, trainy, cv=5)\n",
        "print (\"cv score: \" + str(scores.mean()))\n",
        "\n",
        "if hyper_opt:\n",
        "    params = {\"alpha\": np.logspace(-4, 2, 7), 'hidden_layer_sizes': [1, 2, 5, 10, 20, 50, 100]}\n",
        "    clf = GridSearchCV(nn, params)\n",
        "    clf.fit(train_scaled, trainy)\n",
        "    print(\"hyperparam optimized score : \" + str(clf.best_score_))\n",
        "    import pdb\n",
        "    pdb.set_trace()"
      ]
    },
    {
      "cell_type": "code",
      "execution_count": 87,
      "metadata": {
        "id": "oJCzyVnA8N_O"
      },
      "outputs": [],
      "source": [
        "from sklearn.model_selection import cross_validate"
      ]
    },
    {
      "cell_type": "code",
      "execution_count": 88,
      "metadata": {
        "id": "xciEWD098RfC"
      },
      "outputs": [],
      "source": [
        "results = cross_validate(nn, train_scaled, trainy, return_train_score=True)"
      ]
    },
    {
      "cell_type": "code",
      "execution_count": 16,
      "metadata": {
        "colab": {
          "base_uri": "https://localhost:8080/"
        },
        "id": "9MIO1xpj8URG",
        "outputId": "4bac3ba9-1031-4e71-8779-8b9f7353561b"
      },
      "outputs": [
        {
          "output_type": "execute_result",
          "data": {
            "text/plain": [
              "{'fit_time': array([5.70982933, 4.79780936, 5.87869024, 6.74063182, 8.36857939]),\n",
              " 'score_time': array([0.00361753, 0.00365877, 0.00366116, 0.00373507, 0.00438499]),\n",
              " 'test_score': array([0.91753775, 0.93418506, 0.93147503, 0.93609605, 0.93144849]),\n",
              " 'train_score': array([0.93117135, 0.93523717, 0.92729913, 0.9314684 , 0.93204917])}"
            ]
          },
          "metadata": {},
          "execution_count": 16
        }
      ],
      "source": [
        "results"
      ]
    },
    {
      "cell_type": "code",
      "execution_count": 17,
      "metadata": {
        "id": "4lhMcy0-8XH9"
      },
      "outputs": [],
      "source": [
        "nn = MLPClassifier(hidden_layer_sizes=8, max_iter=15000, alpha=1.0)"
      ]
    },
    {
      "cell_type": "code",
      "execution_count": 18,
      "metadata": {
        "colab": {
          "base_uri": "https://localhost:8080/"
        },
        "id": "Fgm5vd6S8Zxt",
        "outputId": "fa4cdbe2-4801-44c3-c69b-c41c6a591805"
      },
      "outputs": [
        {
          "output_type": "execute_result",
          "data": {
            "text/plain": [
              "0.9311429020594246"
            ]
          },
          "metadata": {},
          "execution_count": 18
        }
      ],
      "source": [
        "nn.fit(train_scaled, trainy)\n",
        "test_preds = nn.predict(scaler.transform(testx))\n",
        "accuracy_score(test_preds, testy)"
      ]
    },
    {
      "cell_type": "code",
      "execution_count": 92,
      "metadata": {
        "id": "I77hf2zp8ylg"
      },
      "outputs": [],
      "source": [
        "import seaborn as sn\n",
        "from sklearn.metrics import confusion_matrix"
      ]
    },
    {
      "cell_type": "code",
      "execution_count": 93,
      "metadata": {
        "id": "PK5SdWeI8iVr"
      },
      "outputs": [],
      "source": [
        "conf_matrix = confusion_matrix(testy, test_preds, labels = df_m['Mood'].unique().tolist())"
      ]
    },
    {
      "cell_type": "code",
      "execution_count": 94,
      "metadata": {
        "id": "NzcCRwd68ovc"
      },
      "outputs": [],
      "source": [
        "labels = df_m['Mood'].unique().tolist()"
      ]
    },
    {
      "cell_type": "code",
      "execution_count": 99,
      "metadata": {
        "colab": {
          "base_uri": "https://localhost:8080/",
          "height": 487
        },
        "id": "KWTaCKShimSV",
        "outputId": "03848574-3f83-4e8f-fab0-c878a95dd279"
      },
      "outputs": [
        {
          "output_type": "display_data",
          "data": {
            "text/plain": [
              "<Figure size 700x500 with 2 Axes>"
            ],
            "image/png": "[encoded data removed]"
          },
          "metadata": {}
        }
      ],
      "source": [
        "import matplotlib.pyplot as plt\n",
        "import seaborn as sn\n",
        "\n",
        "plt.rcParams['figure.figsize'] = (7, 5)\n",
        "# Define the labels\n",
        "labels = ['energetic', 'happy', 'inspiring', 'romantic', 'sad']\n",
        "\n",
        "# Create the subplot and plot the confusion matrix\n",
        "ax = plt.subplot()\n",
        "sn.heatmap(conf_matrix, annot=True, fmt='d', cmap='Blues')\n",
        "\n",
        "# Set the labels and title\n",
        "ax.set_xlabel('Predicted labels')\n",
        "ax.set_ylabel('True labels')\n",
        "ax.set_title('Confusion Matrix')\n",
        "\n",
        "# Set the tick labels\n",
        "ax.xaxis.set_ticklabels(labels)\n",
        "ax.yaxis.set_ticklabels(labels)\n",
        "\n",
        "# Display the plot\n",
        "plt.show()"
      ]
    },
    {
      "cell_type": "code",
      "execution_count": 100,
      "metadata": {
        "id": "bwCFlR7Z9641"
      },
      "outputs": [],
      "source": [
        "import matplotlib.pyplot as plt\n",
        "%matplotlib inline\n",
        "plt.rcParams['figure.figsize'] = (5,5)"
      ]
    },
    {
      "cell_type": "code",
      "execution_count": null,
      "metadata": {
        "id": "CrjxqA3A9-cd"
      },
      "outputs": [],
      "source": [
        "from sklearn.model_selection import learning_curve\n",
        "train_sizes, train_scores, val_scores = learning_curve(nn, train_scaled, trainy, cv=5)"
      ]
    },
    {
      "cell_type": "code",
      "execution_count": 25,
      "metadata": {
        "colab": {
          "base_uri": "https://localhost:8080/",
          "height": 483
        },
        "id": "SAmz42NR-BUM",
        "outputId": "1a77c89f-ba58-4190-8533-f0bacfe38db1"
      },
      "outputs": [
        {
          "output_type": "execute_result",
          "data": {
            "text/plain": [
              "<matplotlib.legend.Legend at 0x787ac0102140>"
            ]
          },
          "metadata": {},
          "execution_count": 25
        },
        {
          "output_type": "display_data",
          "data": {
            "text/plain": [
              "<Figure size 500x500 with 1 Axes>"
            ],
            "image/png": "[encoded data removed]"
          },
          "metadata": {}
        }
      ],
      "source": [
        "train_scores_mean = np.mean(train_scores, axis=1)\n",
        "val_scores_mean = np.mean(val_scores, axis=1)\n",
        "plt.plot(train_sizes, train_scores_mean, label='training score')\n",
        "plt.plot(train_sizes, val_scores_mean, label='validation score')\n",
        "plt.xlabel('training size')\n",
        "plt.legend()"
      ]
    },
    {
      "cell_type": "markdown",
      "metadata": {
        "id": "9ybwT-gVK6fR"
      },
      "source": [
        "\n",
        "\n",
        "---\n",
        "\n",
        "#RandomForest Classiefier"
      ]
    },
    {
      "cell_type": "code",
      "execution_count": 26,
      "metadata": {
        "colab": {
          "base_uri": "https://localhost:8080/"
        },
        "id": "CHYH7JThLm3i",
        "outputId": "2de3ffcd-b39f-4368-a9fd-c0e525a5adc6"
      },
      "outputs": [
        {
          "output_type": "stream",
          "name": "stderr",
          "text": [
            "[nltk_data] Downloading package stopwords to /root/nltk_data...\n",
            "[nltk_data]   Unzipping corpora/stopwords.zip.\n"
          ]
        }
      ],
      "source": [
        "#Importing Libraries Execute the following script to import the required libraries\n",
        "import numpy as np\n",
        "import re\n",
        "import nltk\n",
        "from sklearn.datasets import load_files\n",
        "nltk.download('stopwords')\n",
        "import pickle\n",
        "from nltk.corpus import stopwords"
      ]
    },
    {
      "cell_type": "code",
      "execution_count": 30,
      "metadata": {
        "id": "N7Tl6u6vKz65"
      },
      "outputs": [],
      "source": [
        "#Importing the Dataset\n",
        "music_data =pd.read_csv('/content/df_comb_with_mood.csv')\n",
        "X, y = music_data['clean lyric'], music_data['Mood']"
      ]
    },
    {
      "cell_type": "code",
      "execution_count": 31,
      "metadata": {
        "id": "ZkgZIYKfLg-d"
      },
      "outputs": [],
      "source": [
        "from sklearn.feature_extraction.text import CountVectorizer\n",
        "vectorizer = CountVectorizer(max_features=1500, min_df=5, max_df=0.7, stop_words=stopwords.words('english'))\n",
        "X = vectorizer.fit_transform(music_data['clean lyric']).toarray()"
      ]
    },
    {
      "cell_type": "code",
      "execution_count": 32,
      "metadata": {
        "id": "arhw84kpLqBR"
      },
      "outputs": [],
      "source": [
        "from sklearn.feature_extraction.text import TfidfTransformer\n",
        "tfidfconverter = TfidfTransformer()\n",
        "X = tfidfconverter.fit_transform(X).toarray()"
      ]
    },
    {
      "cell_type": "code",
      "execution_count": 33,
      "metadata": {
        "id": "Yoh4Ltp8LsWf"
      },
      "outputs": [],
      "source": [
        "from sklearn.model_selection import train_test_split\n",
        "X_train, X_test, y_train, y_test = train_test_split(X, y, test_size=0.2, random_state=0)"
      ]
    },
    {
      "cell_type": "code",
      "execution_count": 34,
      "metadata": {
        "colab": {
          "base_uri": "https://localhost:8080/",
          "height": 74
        },
        "id": "DcumlvnfjjjU",
        "outputId": "9a288c6c-c794-4a84-9519-62fed216456a"
      },
      "outputs": [
        {
          "output_type": "execute_result",
          "data": {
            "text/plain": [
              "RandomForestClassifier(n_estimators=1000, random_state=0)"
            ],
            "text/html": [
              "<style>#sk-container-id-1 {color: black;background-color: white;}#sk-container-id-1 pre{padding: 0;}#sk-container-id-1 div.sk-toggleable {background-color: white;}#sk-container-id-1 label.sk-toggleable__label {cursor: pointer;display: block;width: 100%;margin-bottom: 0;padding: 0.3em;box-sizing: border-box;text-align: center;}#sk-container-id-1 label.sk-toggleable__label-arrow:before {content: \"▸\";float: left;margin-right: 0.25em;color: #696969;}#sk-container-id-1 label.sk-toggleable__label-arrow:hover:before {color: black;}#sk-container-id-1 div.sk-estimator:hover label.sk-toggleable__label-arrow:before {color: black;}#sk-container-id-1 div.sk-toggleable__content {max-height: 0;max-width: 0;overflow: hidden;text-align: left;background-color: #f0f8ff;}#sk-container-id-1 div.sk-toggleable__content pre {margin: 0.2em;color: black;border-radius: 0.25em;background-color: #f0f8ff;}#sk-container-id-1 input.sk-toggleable__control:checked~div.sk-toggleable__content {max-height: 200px;max-width: 100%;overflow: auto;}#sk-container-id-1 input.sk-toggleable__control:checked~label.sk-toggleable__label-arrow:before {content: \"▾\";}#sk-container-id-1 div.sk-estimator input.sk-toggleable__control:checked~label.sk-toggleable__label {background-color: #d4ebff;}#sk-container-id-1 div.sk-label input.sk-toggleable__control:checked~label.sk-toggleable__label {background-color: #d4ebff;}#sk-container-id-1 input.sk-hidden--visually {border: 0;clip: rect(1px 1px 1px 1px);clip: rect(1px, 1px, 1px, 1px);height: 1px;margin: -1px;overflow: hidden;padding: 0;position: absolute;width: 1px;}#sk-container-id-1 div.sk-estimator {font-family: monospace;background-color: #f0f8ff;border: 1px dotted black;border-radius: 0.25em;box-sizing: border-box;margin-bottom: 0.5em;}#sk-container-id-1 div.sk-estimator:hover {background-color: #d4ebff;}#sk-container-id-1 div.sk-parallel-item::after {content: \"\";width: 100%;border-bottom: 1px solid gray;flex-grow: 1;}#sk-container-id-1 div.sk-label:hover label.sk-toggleable__label {background-color: #d4ebff;}#sk-container-id-1 div.sk-serial::before {content: \"\";position: absolute;border-left: 1px solid gray;box-sizing: border-box;top: 0;bottom: 0;left: 50%;z-index: 0;}#sk-container-id-1 div.sk-serial {display: flex;flex-direction: column;align-items: center;background-color: white;padding-right: 0.2em;padding-left: 0.2em;position: relative;}#sk-container-id-1 div.sk-item {position: relative;z-index: 1;}#sk-container-id-1 div.sk-parallel {display: flex;align-items: stretch;justify-content: center;background-color: white;position: relative;}#sk-container-id-1 div.sk-item::before, #sk-container-id-1 div.sk-parallel-item::before {content: \"\";position: absolute;border-left: 1px solid gray;box-sizing: border-box;top: 0;bottom: 0;left: 50%;z-index: -1;}#sk-container-id-1 div.sk-parallel-item {display: flex;flex-direction: column;z-index: 1;position: relative;background-color: white;}#sk-container-id-1 div.sk-parallel-item:first-child::after {align-self: flex-end;width: 50%;}#sk-container-id-1 div.sk-parallel-item:last-child::after {align-self: flex-start;width: 50%;}#sk-container-id-1 div.sk-parallel-item:only-child::after {width: 0;}#sk-container-id-1 div.sk-dashed-wrapped {border: 1px dashed gray;margin: 0 0.4em 0.5em 0.4em;box-sizing: border-box;padding-bottom: 0.4em;background-color: white;}#sk-container-id-1 div.sk-label label {font-family: monospace;font-weight: bold;display: inline-block;line-height: 1.2em;}#sk-container-id-1 div.sk-label-container {text-align: center;}#sk-container-id-1 div.sk-container {/* jupyter's `normalize.less` sets `[hidden] { display: none; }` but bootstrap.min.css set `[hidden] { display: none !important; }` so we also need the `!important` here to be able to override the default hidden behavior on the sphinx rendered scikit-learn.org. See: https://github.com/scikit-learn/scikit-learn/issues/21755 */display: inline-block !important;position: relative;}#sk-container-id-1 div.sk-text-repr-fallback {display: none;}</style><div id=\"sk-container-id-1\" class=\"sk-top-container\"><div class=\"sk-text-repr-fallback\"><pre>RandomForestClassifier(n_estimators=1000, random_state=0)</pre><b>In a Jupyter environment, please rerun this cell to show the HTML representation or trust the notebook. <br />On GitHub, the HTML representation is unable to render, please try loading this page with nbviewer.org.</b></div><div class=\"sk-container\" hidden><div class=\"sk-item\"><div class=\"sk-estimator sk-toggleable\"><input class=\"sk-toggleable__control sk-hidden--visually\" id=\"sk-estimator-id-1\" type=\"checkbox\" checked><label for=\"sk-estimator-id-1\" class=\"sk-toggleable__label sk-toggleable__label-arrow\">RandomForestClassifier</label><div class=\"sk-toggleable__content\"><pre>RandomForestClassifier(n_estimators=1000, random_state=0)</pre></div></div></div></div></div>"
            ]
          },
          "metadata": {},
          "execution_count": 34
        }
      ],
      "source": [
        "from sklearn.ensemble import RandomForestClassifier\n",
        "\n",
        "classifier = RandomForestClassifier(n_estimators=1000, random_state=0)\n",
        "classifier.fit(X_train, y_train)"
      ]
    },
    {
      "cell_type": "code",
      "execution_count": 37,
      "metadata": {
        "id": "eTIfz9IBLxRp"
      },
      "outputs": [],
      "source": [
        "y_pred = classifier.predict(X_test)"
      ]
    },
    {
      "cell_type": "code",
      "execution_count": 38,
      "metadata": {
        "colab": {
          "base_uri": "https://localhost:8080/"
        },
        "id": "t5cowkUnLzVa",
        "outputId": "99ebf1a6-2252-4d34-8c63-e449688a9257"
      },
      "outputs": [
        {
          "output_type": "stream",
          "name": "stdout",
          "text": [
            "[[   0    0    0   12   12    2    0    0]\n",
            " [   0    1    0   43  111    5    0    0]\n",
            " [   0    0    3   35   41    7    0    0]\n",
            " [   0    0    0  576  508   37    0    0]\n",
            " [   0    0    0  191 1048   39    1    0]\n",
            " [   0    0    0  176  368  165    0    0]\n",
            " [   0    0    1   23   40   18    4    0]\n",
            " [   0    0    0  171  182   25    0   10]]\n",
            "              precision    recall  f1-score   support\n",
            "\n",
            "        Calm       0.00      0.00      0.00        26\n",
            "   Energetic       1.00      0.01      0.01       160\n",
            "       Happy       0.75      0.03      0.07        86\n",
            "     Hopeful       0.47      0.51      0.49      1121\n",
            "   Inspiring       0.45      0.82      0.58      1279\n",
            "  Reflective       0.55      0.23      0.33       709\n",
            "    Romantic       0.80      0.05      0.09        86\n",
            "         Sad       1.00      0.03      0.05       388\n",
            "\n",
            "    accuracy                           0.47      3855\n",
            "   macro avg       0.63      0.21      0.20      3855\n",
            "weighted avg       0.57      0.47      0.41      3855\n",
            "\n",
            "0.4687418936446174\n"
          ]
        },
        {
          "output_type": "stream",
          "name": "stderr",
          "text": [
            "/usr/local/lib/python3.10/dist-packages/sklearn/metrics/_classification.py:1344: UndefinedMetricWarning: Precision and F-score are ill-defined and being set to 0.0 in labels with no predicted samples. Use `zero_division` parameter to control this behavior.\n",
            "  _warn_prf(average, modifier, msg_start, len(result))\n",
            "/usr/local/lib/python3.10/dist-packages/sklearn/metrics/_classification.py:1344: UndefinedMetricWarning: Precision and F-score are ill-defined and being set to 0.0 in labels with no predicted samples. Use `zero_division` parameter to control this behavior.\n",
            "  _warn_prf(average, modifier, msg_start, len(result))\n",
            "/usr/local/lib/python3.10/dist-packages/sklearn/metrics/_classification.py:1344: UndefinedMetricWarning: Precision and F-score are ill-defined and being set to 0.0 in labels with no predicted samples. Use `zero_division` parameter to control this behavior.\n",
            "  _warn_prf(average, modifier, msg_start, len(result))\n"
          ]
        }
      ],
      "source": [
        "from sklearn.metrics import classification_report, confusion_matrix, accuracy_score\n",
        "\n",
        "print(confusion_matrix(y_test,y_pred))\n",
        "print(classification_report(y_test,y_pred))\n",
        "print(accuracy_score(y_test, y_pred))"
      ]
    },
    {
      "cell_type": "markdown",
      "metadata": {
        "id": "BrXmq40Md-fl"
      },
      "source": [
        "\n",
        "\n",
        "---\n",
        "\n",
        "\n",
        "\n",
        "---\n",
        "\n"
      ]
    },
    {
      "cell_type": "code",
      "execution_count": 39,
      "metadata": {
        "id": "TvJWiBFNdgkm"
      },
      "outputs": [],
      "source": [
        "import pandas as pd\n",
        "\n",
        "#Importing the Dataset\n",
        "music_data = pd.read_csv('df_comb_with_mood.csv')\n"
      ]
    },
    {
      "cell_type": "code",
      "execution_count": 40,
      "metadata": {
        "id": "ej8cezHUdotO"
      },
      "outputs": [],
      "source": [
        "\n",
        "col_names = [\"danceability\", \"valence\", \"energy\"]\n",
        "\n",
        "music_data = pd.read_csv('df_comb_with_mood.csv')\n",
        "#music_data.head()"
      ]
    },
    {
      "cell_type": "code",
      "execution_count": 41,
      "metadata": {
        "id": "PrvvRPeZenZI"
      },
      "outputs": [],
      "source": [
        "# Mapping class label to respective integer\n",
        "y = music_data['Mood'].map({'energetic': 0, 'happy': 1, 'inspiring': 2, 'romantic': 3, 'sad': 4})\n",
        "target_names = ['energetic', 'happy', 'inspiring', 'romantic', 'sad']"
      ]
    },
    {
      "cell_type": "code",
      "execution_count": 42,
      "metadata": {
        "colab": {
          "base_uri": "https://localhost:8080/"
        },
        "id": "sVnWnP1vqrq-",
        "outputId": "4a189028-a021-4d6e-b31c-44d999ae4a15"
      },
      "outputs": [
        {
          "output_type": "execute_result",
          "data": {
            "text/plain": [
              "(19274, 26)"
            ]
          },
          "metadata": {},
          "execution_count": 42
        }
      ],
      "source": [
        "music_data.shape"
      ]
    },
    {
      "cell_type": "code",
      "execution_count": 43,
      "metadata": {
        "colab": {
          "base_uri": "https://localhost:8080/"
        },
        "id": "Xi1d6SFYqtjj",
        "outputId": "e1edbb96-64fc-467f-e53d-c8a0be1e415e"
      },
      "outputs": [
        {
          "output_type": "execute_result",
          "data": {
            "text/plain": [
              "Inspiring     6540\n",
              "Hopeful       5609\n",
              "Reflective    3590\n",
              "Sad           1913\n",
              "Energetic      722\n",
              "Happy          418\n",
              "Romantic       349\n",
              "Calm           133\n",
              "Name: Mood, dtype: int64"
            ]
          },
          "metadata": {},
          "execution_count": 43
        }
      ],
      "source": [
        "music_data['Mood'].value_counts()"
      ]
    },
    {
      "cell_type": "code",
      "execution_count": 44,
      "metadata": {
        "colab": {
          "base_uri": "https://localhost:8080/"
        },
        "id": "jZAe5-bkqvTd",
        "outputId": "7d00fa0f-4448-425d-a28e-8ca36943de98"
      },
      "outputs": [
        {
          "output_type": "execute_result",
          "data": {
            "text/plain": [
              "Inspiring     0.339317\n",
              "Hopeful       0.291014\n",
              "Reflective    0.186261\n",
              "Sad           0.099253\n",
              "Energetic     0.037460\n",
              "Happy         0.021687\n",
              "Romantic      0.018107\n",
              "Calm          0.006900\n",
              "Name: Mood, dtype: float64"
            ]
          },
          "metadata": {},
          "execution_count": 44
        }
      ],
      "source": [
        "music_data['Mood'].value_counts(normalize=True)"
      ]
    },
    {
      "cell_type": "code",
      "execution_count": 45,
      "metadata": {
        "colab": {
          "base_uri": "https://localhost:8080/",
          "height": 500
        },
        "id": "f1BjMruhqxwb",
        "outputId": "737ddc28-a2b4-45d3-fbce-98fea83147a5"
      },
      "outputs": [
        {
          "output_type": "display_data",
          "data": {
            "text/plain": [
              "<Figure size 500x500 with 1 Axes>"
            ],
            "image/png": "[encoded data removed]"
          },
          "metadata": {}
        }
      ],
      "source": [
        "music_data['Mood'].value_counts().plot.bar();"
      ]
    },
    {
      "cell_type": "code",
      "execution_count": 91,
      "metadata": {
        "id": "Gc2l3RBvq0us"
      },
      "outputs": [],
      "source": [
        "music_data.describe().T"
      ]
    },
    {
      "cell_type": "code",
      "source": [
        "def clean_lyrics(lyric):\n",
        "    # Your preprocessing code here (e.g., remove punctuations, convert to lowercase)\n",
        "    lyric = re.sub(r'[^\\w\\s]', '', lyric)  # Remove punctuations\n",
        "    return lyric.lower()  # Convert to lowercase\n",
        "music_data['Lyric'] = music_data['Lyric'].apply(clean_lyrics)\n",
        "    #return lyric"
      ],
      "metadata": {
        "id": "oaceAUD-YSR2"
      },
      "execution_count": 51,
      "outputs": []
    },
    {
      "cell_type": "code",
      "source": [
        "music_data['Lyric'] = music_data['Lyric'].apply(clean_lyrics)"
      ],
      "metadata": {
        "id": "kRtKI2fLYGZO"
      },
      "execution_count": 52,
      "outputs": []
    },
    {
      "cell_type": "code",
      "source": [
        "# Split the dataset into training and test sets\n",
        "X_train, X_test, y_train, y_test = train_test_split(music_data['Lyric'], music_data['Mood'], test_size=0.2, random_state=42)"
      ],
      "metadata": {
        "id": "t-oBM-o-YacC"
      },
      "execution_count": 53,
      "outputs": []
    },
    {
      "cell_type": "code",
      "source": [
        "from sklearn.feature_extraction.text import TfidfVectorizer"
      ],
      "metadata": {
        "id": "XalKnJfkYrMm"
      },
      "execution_count": 55,
      "outputs": []
    },
    {
      "cell_type": "code",
      "source": [
        "# Create a TF-IDF vectorizer and fit it to the training data\n",
        "vectorizer = TfidfVectorizer()\n",
        "X_train_tfidf = vectorizer.fit_transform(X_train)\n",
        "X_test_tfidf = vectorizer.transform(X_test)"
      ],
      "metadata": {
        "id": "eWF82BbvYcWp"
      },
      "execution_count": 56,
      "outputs": []
    },
    {
      "cell_type": "code",
      "execution_count": 47,
      "metadata": {
        "id": "InG8lbxZq7sV"
      },
      "outputs": [],
      "source": [
        "\"\"\"\n",
        "from sklearn.model_selection import train_test_split\n",
        "\n",
        "SEED = 42\n",
        "\n",
        "X_train, X_test, y_train, y_test = train_test_split(X, y, test_size = 0.20, random_state = SEED)\n",
        "\"\"\""
      ]
    },
    {
      "cell_type": "code",
      "execution_count": 48,
      "metadata": {
        "colab": {
          "base_uri": "https://localhost:8080/"
        },
        "id": "mCMcke5IrCB9",
        "outputId": "9af66714-57cf-43cf-f78a-7a2607061982"
      },
      "outputs": [
        {
          "output_type": "stream",
          "name": "stdout",
          "text": [
            "There are 15419 samples for training and 3855 samples for testing.\n"
          ]
        }
      ],
      "source": [
        "xtrain_samples = X_train.shape[0]\n",
        "xtest_samples = X_test.shape[0]\n",
        "\n",
        "print(f'There are {xtrain_samples} samples for training and {xtest_samples} samples for testing.')"
      ]
    },
    {
      "cell_type": "code",
      "execution_count": 57,
      "metadata": {
        "id": "UtlUxGs3rEOM"
      },
      "outputs": [],
      "source": [
        "from sklearn.svm import SVC\n",
        "svc = SVC(kernel='linear')"
      ]
    },
    {
      "cell_type": "code",
      "source": [
        "svc.fit(X_train_tfidf, y_train)"
      ],
      "metadata": {
        "id": "Y-QbxqNpYzzA",
        "outputId": "cc263ee4-2bea-47c0-991a-edc988c81c64",
        "colab": {
          "base_uri": "https://localhost:8080/",
          "height": 74
        }
      },
      "execution_count": 59,
      "outputs": [
        {
          "output_type": "execute_result",
          "data": {
            "text/plain": [
              "SVC(kernel='linear')"
            ],
            "text/html": [
              "<style>#sk-container-id-2 {color: black;background-color: white;}#sk-container-id-2 pre{padding: 0;}#sk-container-id-2 div.sk-toggleable {background-color: white;}#sk-container-id-2 label.sk-toggleable__label {cursor: pointer;display: block;width: 100%;margin-bottom: 0;padding: 0.3em;box-sizing: border-box;text-align: center;}#sk-container-id-2 label.sk-toggleable__label-arrow:before {content: \"▸\";float: left;margin-right: 0.25em;color: #696969;}#sk-container-id-2 label.sk-toggleable__label-arrow:hover:before {color: black;}#sk-container-id-2 div.sk-estimator:hover label.sk-toggleable__label-arrow:before {color: black;}#sk-container-id-2 div.sk-toggleable__content {max-height: 0;max-width: 0;overflow: hidden;text-align: left;background-color: #f0f8ff;}#sk-container-id-2 div.sk-toggleable__content pre {margin: 0.2em;color: black;border-radius: 0.25em;background-color: #f0f8ff;}#sk-container-id-2 input.sk-toggleable__control:checked~div.sk-toggleable__content {max-height: 200px;max-width: 100%;overflow: auto;}#sk-container-id-2 input.sk-toggleable__control:checked~label.sk-toggleable__label-arrow:before {content: \"▾\";}#sk-container-id-2 div.sk-estimator input.sk-toggleable__control:checked~label.sk-toggleable__label {background-color: #d4ebff;}#sk-container-id-2 div.sk-label input.sk-toggleable__control:checked~label.sk-toggleable__label {background-color: #d4ebff;}#sk-container-id-2 input.sk-hidden--visually {border: 0;clip: rect(1px 1px 1px 1px);clip: rect(1px, 1px, 1px, 1px);height: 1px;margin: -1px;overflow: hidden;padding: 0;position: absolute;width: 1px;}#sk-container-id-2 div.sk-estimator {font-family: monospace;background-color: #f0f8ff;border: 1px dotted black;border-radius: 0.25em;box-sizing: border-box;margin-bottom: 0.5em;}#sk-container-id-2 div.sk-estimator:hover {background-color: #d4ebff;}#sk-container-id-2 div.sk-parallel-item::after {content: \"\";width: 100%;border-bottom: 1px solid gray;flex-grow: 1;}#sk-container-id-2 div.sk-label:hover label.sk-toggleable__label {background-color: #d4ebff;}#sk-container-id-2 div.sk-serial::before {content: \"\";position: absolute;border-left: 1px solid gray;box-sizing: border-box;top: 0;bottom: 0;left: 50%;z-index: 0;}#sk-container-id-2 div.sk-serial {display: flex;flex-direction: column;align-items: center;background-color: white;padding-right: 0.2em;padding-left: 0.2em;position: relative;}#sk-container-id-2 div.sk-item {position: relative;z-index: 1;}#sk-container-id-2 div.sk-parallel {display: flex;align-items: stretch;justify-content: center;background-color: white;position: relative;}#sk-container-id-2 div.sk-item::before, #sk-container-id-2 div.sk-parallel-item::before {content: \"\";position: absolute;border-left: 1px solid gray;box-sizing: border-box;top: 0;bottom: 0;left: 50%;z-index: -1;}#sk-container-id-2 div.sk-parallel-item {display: flex;flex-direction: column;z-index: 1;position: relative;background-color: white;}#sk-container-id-2 div.sk-parallel-item:first-child::after {align-self: flex-end;width: 50%;}#sk-container-id-2 div.sk-parallel-item:last-child::after {align-self: flex-start;width: 50%;}#sk-container-id-2 div.sk-parallel-item:only-child::after {width: 0;}#sk-container-id-2 div.sk-dashed-wrapped {border: 1px dashed gray;margin: 0 0.4em 0.5em 0.4em;box-sizing: border-box;padding-bottom: 0.4em;background-color: white;}#sk-container-id-2 div.sk-label label {font-family: monospace;font-weight: bold;display: inline-block;line-height: 1.2em;}#sk-container-id-2 div.sk-label-container {text-align: center;}#sk-container-id-2 div.sk-container {/* jupyter's `normalize.less` sets `[hidden] { display: none; }` but bootstrap.min.css set `[hidden] { display: none !important; }` so we also need the `!important` here to be able to override the default hidden behavior on the sphinx rendered scikit-learn.org. See: https://github.com/scikit-learn/scikit-learn/issues/21755 */display: inline-block !important;position: relative;}#sk-container-id-2 div.sk-text-repr-fallback {display: none;}</style><div id=\"sk-container-id-2\" class=\"sk-top-container\"><div class=\"sk-text-repr-fallback\"><pre>SVC(kernel=&#x27;linear&#x27;)</pre><b>In a Jupyter environment, please rerun this cell to show the HTML representation or trust the notebook. <br />On GitHub, the HTML representation is unable to render, please try loading this page with nbviewer.org.</b></div><div class=\"sk-container\" hidden><div class=\"sk-item\"><div class=\"sk-estimator sk-toggleable\"><input class=\"sk-toggleable__control sk-hidden--visually\" id=\"sk-estimator-id-2\" type=\"checkbox\" checked><label for=\"sk-estimator-id-2\" class=\"sk-toggleable__label sk-toggleable__label-arrow\">SVC</label><div class=\"sk-toggleable__content\"><pre>SVC(kernel=&#x27;linear&#x27;)</pre></div></div></div></div></div>"
            ]
          },
          "metadata": {},
          "execution_count": 59
        }
      ]
    },
    {
      "cell_type": "code",
      "execution_count": 60,
      "metadata": {
        "colab": {
          "base_uri": "https://localhost:8080/"
        },
        "id": "UpakEm_TSAlV",
        "outputId": "e583b5de-78a4-45e5-d641-7cebc6ad7479"
      },
      "outputs": [
        {
          "output_type": "execute_result",
          "data": {
            "text/plain": [
              "3366     Inspiring\n",
              "2807     Inspiring\n",
              "6095       Hopeful\n",
              "7757           Sad\n",
              "13529      Hopeful\n",
              "           ...    \n",
              "11284      Hopeful\n",
              "11964      Hopeful\n",
              "5390       Hopeful\n",
              "860      Inspiring\n",
              "15795    Inspiring\n",
              "Name: Mood, Length: 15419, dtype: object"
            ]
          },
          "metadata": {},
          "execution_count": 60
        }
      ],
      "source": [
        "y_train"
      ]
    },
    {
      "cell_type": "code",
      "execution_count": 65,
      "metadata": {
        "id": "6DaJL1masoUc"
      },
      "outputs": [],
      "source": [
        "y_pred = svc.predict(X_test_tfidf)"
      ]
    },
    {
      "cell_type": "code",
      "execution_count": 66,
      "metadata": {
        "colab": {
          "base_uri": "https://localhost:8080/",
          "height": 740
        },
        "id": "0au7rLD-s16L",
        "outputId": "0451b8b2-fe58-4ff6-9c43-f4199c53d6a2"
      },
      "outputs": [
        {
          "output_type": "stream",
          "name": "stdout",
          "text": [
            "              precision    recall  f1-score   support\n",
            "\n",
            "        Calm       0.57      0.17      0.27        23\n",
            "   Energetic       0.77      0.33      0.46       169\n",
            "       Happy       0.80      0.38      0.51        88\n",
            "     Hopeful       0.67      0.83      0.74      1099\n",
            "   Inspiring       0.85      0.87      0.86      1285\n",
            "  Reflective       0.74      0.75      0.74       714\n",
            "    Romantic       0.89      0.33      0.48        72\n",
            "         Sad       0.78      0.59      0.67       405\n",
            "\n",
            "    accuracy                           0.76      3855\n",
            "   macro avg       0.76      0.53      0.59      3855\n",
            "weighted avg       0.77      0.76      0.75      3855\n",
            "\n"
          ]
        },
        {
          "output_type": "display_data",
          "data": {
            "text/plain": [
              "<Figure size 500x500 with 2 Axes>"
            ],
            "image/png": "[encoded data removed]"
          },
          "metadata": {}
        }
      ],
      "source": [
        "from sklearn.metrics import classification_report, confusion_matrix\n",
        "\n",
        "cm = confusion_matrix(y_test,y_pred)\n",
        "sns.heatmap(cm, annot=True, fmt='d').set_title('Confusion matrix of linear SVM') # fmt='d' formats the numbers as digits, which means integers\n",
        "\n",
        "print(classification_report(y_test,y_pred))"
      ]
    },
    {
      "cell_type": "markdown",
      "metadata": {
        "id": "qkymrMbNtlTj"
      },
      "source": [
        "\n",
        "\n",
        "---\n",
        "\n",
        "\n",
        "\n",
        "---\n",
        "\n"
      ]
    }
  ],
  "metadata": {
    "colab": {
      "provenance": []
    },
    "kernelspec": {
      "display_name": "Python 3",
      "name": "python3"
    },
    "language_info": {
      "codemirror_mode": {
        "name": "ipython",
        "version": 3
      },
      "file_extension": ".py",
      "mimetype": "text/x-python",
      "name": "python",
      "nbconvert_exporter": "python",
      "pygments_lexer": "ipython3",
      "version": "3.8.2"
    }
  },
  "nbformat": 4,
  "nbformat_minor": 0
}